{
 "cells": [
  {
   "cell_type": "code",
   "execution_count": 5,
   "metadata": {},
   "outputs": [
    {
     "name": "stdout",
     "output_type": "stream",
     "text": [
      "^C\n"
     ]
    }
   ],
   "source": [
    "!pip install transformers open3d torch torchvision --user"
   ]
  },
  {
   "cell_type": "code",
   "execution_count": 2,
   "metadata": {},
   "outputs": [],
   "source": [
    "import cv2\n",
    "import numpy as np\n",
    "import open3d as o3d\n",
    "from sklearn.neighbors import LocalOutlierFactor\n",
    "\n",
    "def image_to_pointcloud(image_path, output_ply=\"output.ply\"):\n",
    "    \"\"\"Convert a single image to a cleaned point cloud\"\"\"\n",
    "    # 1. Read image and create synthetic depth (since OpenCV has no built-in depth estimation)\n",
    "    img = cv2.imread(image_path)\n",
    "    gray = cv2.cvtColor(img, cv2.COLOR_BGR2GRAY)\n",
    "    h, w = gray.shape\n",
    "    \n",
    "    # Create fake depth (darker pixels = farther away)\n",
    "    depth = cv2.normalize(255 - gray.astype(np.float32), None, 0.1, 1.0, cv2.NORM_MINMAX)\n",
    "    \n",
    "    # 2. Generate 3D points\n",
    "    points = []\n",
    "    colors = []\n",
    "    fx = fy = w * 0.8  # Focal length (approximate)\n",
    "    cx, cy = w // 2, h // 2  # Optical center\n",
    "    \n",
    "    for v in range(0, h, 2):  # Skip every 2nd row for speed\n",
    "        for u in range(0, w, 2):\n",
    "            z = depth[v, u]\n",
    "            if z < 0.15:  # Skip background\n",
    "                continue\n",
    "            x = (u - cx) * z / fx\n",
    "            y = (v - cy) * z / fy\n",
    "            points.append([x, y, z])\n",
    "            colors.append(img[v, u] / 255.0)\n",
    "    \n",
    "    # 3. Clean outliers\n",
    "    points = np.array(points)\n",
    "    clf = LocalOutlierFactor(n_neighbors=20)\n",
    "    inliers = clf.fit_predict(points) == 1\n",
    "    points = points[inliers]\n",
    "    colors = np.array(colors)[inliers]\n",
    "    \n",
    "    # 4. Create Open3D object\n",
    "    pcd = o3d.geometry.PointCloud()\n",
    "    pcd.points = o3d.utility.Vector3dVector(points)\n",
    "    pcd.colors = o3d.utility.Vector3dVector(colors)\n",
    "    \n",
    "    # Save and visualize\n",
    "    o3d.io.write_point_cloud(output_ply, pcd)\n",
    "    o3d.visualization.draw_geometries([pcd])\n",
    "    \n",
    "    return pcd\n",
    "\n",
    "# ACTUALLY RUN IT\n",
    "point_cloud = image_to_pointcloud(\"chair.jpg\")  # Replace with your image path"
   ]
  },
  {
   "cell_type": "code",
   "execution_count": 3,
   "metadata": {},
   "outputs": [
    {
     "name": "stdout",
     "output_type": "stream",
     "text": [
      "GAN input shape: (2048, 3)\n"
     ]
    }
   ],
   "source": [
    "def prepare_for_gan(pcd, num_points=2048):\n",
    "    \"\"\"Convert Open3D point cloud to GAN-ready numpy array\"\"\"\n",
    "    points = np.asarray(pcd.points)\n",
    "    \n",
    "    # 1. Normalize\n",
    "    points -= np.mean(points, axis=0)\n",
    "    points /= np.max(np.linalg.norm(points, axis=1))\n",
    "    \n",
    "    # 2. Fixed number of points\n",
    "    if len(points) > num_points:\n",
    "        points = points[np.random.choice(len(points), num_points, replace=False)]\n",
    "    elif len(points) < num_points:\n",
    "        points = points[np.random.choice(len(points), num_points, replace=True)]\n",
    "    \n",
    "    return points.astype(np.float32)\n",
    "\n",
    "# Convert your generated point cloud\n",
    "gan_input = prepare_for_gan(point_cloud)\n",
    "print(\"GAN input shape:\", gan_input.shape)  # Should be (2048, 3)"
   ]
  },
  {
   "cell_type": "code",
   "execution_count": null,
   "metadata": {},
   "outputs": [],
   "source": [
    "# Visualize the processed points\n",
    "pcd = o3d.geometry.PointCloud()\n",
    "pcd.points = o3d.utility.Vector3dVector(gan_input)\n",
    "o3d.visualization.draw_geometries([pcd])"
   ]
  },
  {
   "cell_type": "code",
   "execution_count": 5,
   "metadata": {},
   "outputs": [
    {
     "name": "stdout",
     "output_type": "stream",
     "text": [
      "Requirement already satisfied: opencv-python in c:\\users\\ertat\\appdata\\local\\programs\\python\\python39\\lib\\site-packages (4.5.5.64)\n",
      "Requirement already satisfied: numpy in c:\\users\\ertat\\appdata\\local\\programs\\python\\python39\\lib\\site-packages (1.22.4)\n",
      "Requirement already satisfied: open3d in c:\\users\\ertat\\appdata\\local\\programs\\python\\python39\\lib\\site-packages (0.19.0)\n",
      "Requirement already satisfied: scikit-learn in c:\\users\\ertat\\appdata\\local\\programs\\python\\python39\\lib\\site-packages (1.1.1)\n",
      "Requirement already satisfied: ipywidgets>=8.0.4 in c:\\users\\ertat\\appdata\\local\\programs\\python\\python39\\lib\\site-packages (from open3d) (8.1.7)\n",
      "Requirement already satisfied: flask>=3.0.0 in c:\\users\\ertat\\appdata\\local\\programs\\python\\python39\\lib\\site-packages (from open3d) (3.0.3)\n",
      "Requirement already satisfied: configargparse in c:\\users\\ertat\\appdata\\local\\programs\\python\\python39\\lib\\site-packages (from open3d) (1.7.1)\n",
      "Requirement already satisfied: dash>=2.6.0 in c:\\users\\ertat\\appdata\\local\\programs\\python\\python39\\lib\\site-packages (from open3d) (3.0.4)\n",
      "Requirement already satisfied: nbformat>=5.7.0 in c:\\users\\ertat\\appdata\\local\\programs\\python\\python39\\lib\\site-packages (from open3d) (5.10.4)\n",
      "Requirement already satisfied: werkzeug>=3.0.0 in c:\\users\\ertat\\appdata\\local\\programs\\python\\python39\\lib\\site-packages (from open3d) (3.0.6)\n",
      "Requirement already satisfied: threadpoolctl>=2.0.0 in c:\\users\\ertat\\appdata\\local\\programs\\python\\python39\\lib\\site-packages (from scikit-learn) (3.1.0)\n",
      "Requirement already satisfied: scipy>=1.3.2 in c:\\users\\ertat\\appdata\\local\\programs\\python\\python39\\lib\\site-packages (from scikit-learn) (1.8.1)\n",
      "Requirement already satisfied: joblib>=1.0.0 in c:\\users\\ertat\\appdata\\local\\programs\\python\\python39\\lib\\site-packages (from scikit-learn) (1.1.0)\n",
      "Requirement already satisfied: requests in c:\\users\\ertat\\appdata\\local\\programs\\python\\python39\\lib\\site-packages (from dash>=2.6.0->open3d) (2.27.1)\n",
      "Requirement already satisfied: typing-extensions>=4.1.1 in c:\\users\\ertat\\appdata\\local\\programs\\python\\python39\\lib\\site-packages (from dash>=2.6.0->open3d) (4.14.0)\n",
      "Requirement already satisfied: nest-asyncio in c:\\users\\ertat\\appdata\\local\\programs\\python\\python39\\lib\\site-packages (from dash>=2.6.0->open3d) (1.5.5)\n",
      "Requirement already satisfied: retrying in c:\\users\\ertat\\appdata\\local\\programs\\python\\python39\\lib\\site-packages (from dash>=2.6.0->open3d) (1.3.4)\n",
      "Requirement already satisfied: importlib-metadata in c:\\users\\ertat\\appdata\\local\\programs\\python\\python39\\lib\\site-packages (from dash>=2.6.0->open3d) (4.11.4)\n",
      "Requirement already satisfied: plotly>=5.0.0 in c:\\users\\ertat\\appdata\\local\\programs\\python\\python39\\lib\\site-packages (from dash>=2.6.0->open3d) (6.1.2)\n",
      "Requirement already satisfied: setuptools in c:\\users\\ertat\\appdata\\local\\programs\\python\\python39\\lib\\site-packages (from dash>=2.6.0->open3d) (58.1.0)\n",
      "Requirement already satisfied: Jinja2>=3.1.2 in c:\\users\\ertat\\appdata\\local\\programs\\python\\python39\\lib\\site-packages (from flask>=3.0.0->open3d) (3.1.2)\n",
      "Requirement already satisfied: itsdangerous>=2.1.2 in c:\\users\\ertat\\appdata\\local\\programs\\python\\python39\\lib\\site-packages (from flask>=3.0.0->open3d) (2.1.2)\n",
      "Requirement already satisfied: blinker>=1.6.2 in c:\\users\\ertat\\appdata\\local\\programs\\python\\python39\\lib\\site-packages (from flask>=3.0.0->open3d) (1.9.0)\n",
      "Requirement already satisfied: click>=8.1.3 in c:\\users\\ertat\\appdata\\local\\programs\\python\\python39\\lib\\site-packages (from flask>=3.0.0->open3d) (8.1.3)\n",
      "Requirement already satisfied: jupyterlab_widgets~=3.0.15 in c:\\users\\ertat\\appdata\\local\\programs\\python\\python39\\lib\\site-packages (from ipywidgets>=8.0.4->open3d) (3.0.15)\n",
      "Requirement already satisfied: ipython>=6.1.0 in c:\\users\\ertat\\appdata\\local\\programs\\python\\python39\\lib\\site-packages (from ipywidgets>=8.0.4->open3d) (8.4.0)\n",
      "Requirement already satisfied: comm>=0.1.3 in c:\\users\\ertat\\appdata\\local\\programs\\python\\python39\\lib\\site-packages (from ipywidgets>=8.0.4->open3d) (0.2.2)\n",
      "Requirement already satisfied: widgetsnbextension~=4.0.14 in c:\\users\\ertat\\appdata\\local\\programs\\python\\python39\\lib\\site-packages (from ipywidgets>=8.0.4->open3d) (4.0.14)\n",
      "Requirement already satisfied: traitlets>=4.3.1 in c:\\users\\ertat\\appdata\\local\\programs\\python\\python39\\lib\\site-packages (from ipywidgets>=8.0.4->open3d) (5.14.3)\n",
      "Requirement already satisfied: jupyter-core!=5.0.*,>=4.12 in c:\\users\\ertat\\appdata\\local\\programs\\python\\python39\\lib\\site-packages (from nbformat>=5.7.0->open3d) (5.8.1)\n",
      "Requirement already satisfied: jsonschema>=2.6 in c:\\users\\ertat\\appdata\\local\\programs\\python\\python39\\lib\\site-packages (from nbformat>=5.7.0->open3d) (4.24.0)\n",
      "Requirement already satisfied: fastjsonschema>=2.15 in c:\\users\\ertat\\appdata\\local\\programs\\python\\python39\\lib\\site-packages (from nbformat>=5.7.0->open3d) (2.21.1)\n",
      "Requirement already satisfied: MarkupSafe>=2.1.1 in c:\\users\\ertat\\appdata\\local\\programs\\python\\python39\\lib\\site-packages (from werkzeug>=3.0.0->open3d) (2.1.1)\n",
      "Requirement already satisfied: colorama in c:\\users\\ertat\\appdata\\local\\programs\\python\\python39\\lib\\site-packages (from click>=8.1.3->flask>=3.0.0->open3d) (0.4.4)\n",
      "Requirement already satisfied: zipp>=0.5 in c:\\users\\ertat\\appdata\\local\\programs\\python\\python39\\lib\\site-packages (from importlib-metadata->dash>=2.6.0->open3d) (3.8.0)\n",
      "Requirement already satisfied: jedi>=0.16 in c:\\users\\ertat\\appdata\\local\\programs\\python\\python39\\lib\\site-packages (from ipython>=6.1.0->ipywidgets>=8.0.4->open3d) (0.18.1)\n",
      "Requirement already satisfied: matplotlib-inline in c:\\users\\ertat\\appdata\\local\\programs\\python\\python39\\lib\\site-packages (from ipython>=6.1.0->ipywidgets>=8.0.4->open3d) (0.1.3)\n",
      "Requirement already satisfied: stack-data in c:\\users\\ertat\\appdata\\local\\programs\\python\\python39\\lib\\site-packages (from ipython>=6.1.0->ipywidgets>=8.0.4->open3d) (0.2.0)\n",
      "Requirement already satisfied: pygments>=2.4.0 in c:\\users\\ertat\\appdata\\local\\programs\\python\\python39\\lib\\site-packages (from ipython>=6.1.0->ipywidgets>=8.0.4->open3d) (2.12.0)\n",
      "Requirement already satisfied: backcall in c:\\users\\ertat\\appdata\\local\\programs\\python\\python39\\lib\\site-packages (from ipython>=6.1.0->ipywidgets>=8.0.4->open3d) (0.2.0)\n",
      "Requirement already satisfied: decorator in c:\\users\\ertat\\appdata\\local\\programs\\python\\python39\\lib\\site-packages (from ipython>=6.1.0->ipywidgets>=8.0.4->open3d) (5.1.1)\n",
      "Requirement already satisfied: pickleshare in c:\\users\\ertat\\appdata\\local\\programs\\python\\python39\\lib\\site-packages (from ipython>=6.1.0->ipywidgets>=8.0.4->open3d) (0.7.5)\n",
      "Requirement already satisfied: prompt-toolkit!=3.0.0,!=3.0.1,<3.1.0,>=2.0.0 in c:\\users\\ertat\\appdata\\local\\programs\\python\\python39\\lib\\site-packages (from ipython>=6.1.0->ipywidgets>=8.0.4->open3d) (3.0.29)\n",
      "Requirement already satisfied: rpds-py>=0.7.1 in c:\\users\\ertat\\appdata\\local\\programs\\python\\python39\\lib\\site-packages (from jsonschema>=2.6->nbformat>=5.7.0->open3d) (0.25.1)\n",
      "Requirement already satisfied: jsonschema-specifications>=2023.03.6 in c:\\users\\ertat\\appdata\\local\\programs\\python\\python39\\lib\\site-packages (from jsonschema>=2.6->nbformat>=5.7.0->open3d) (2025.4.1)\n",
      "Requirement already satisfied: referencing>=0.28.4 in c:\\users\\ertat\\appdata\\local\\programs\\python\\python39\\lib\\site-packages (from jsonschema>=2.6->nbformat>=5.7.0->open3d) (0.36.2)\n",
      "Requirement already satisfied: attrs>=22.2.0 in c:\\users\\ertat\\appdata\\local\\programs\\python\\python39\\lib\\site-packages (from jsonschema>=2.6->nbformat>=5.7.0->open3d) (25.3.0)\n",
      "Requirement already satisfied: platformdirs>=2.5 in c:\\users\\ertat\\appdata\\local\\programs\\python\\python39\\lib\\site-packages (from jupyter-core!=5.0.*,>=4.12->nbformat>=5.7.0->open3d) (4.3.8)\n",
      "Requirement already satisfied: pywin32>=300 in c:\\users\\ertat\\appdata\\local\\programs\\python\\python39\\lib\\site-packages (from jupyter-core!=5.0.*,>=4.12->nbformat>=5.7.0->open3d) (304)\n",
      "Requirement already satisfied: packaging in c:\\users\\ertat\\appdata\\local\\programs\\python\\python39\\lib\\site-packages (from plotly>=5.0.0->dash>=2.6.0->open3d) (21.3)\n",
      "Requirement already satisfied: narwhals>=1.15.1 in c:\\users\\ertat\\appdata\\local\\programs\\python\\python39\\lib\\site-packages (from plotly>=5.0.0->dash>=2.6.0->open3d) (1.42.0)\n",
      "Requirement already satisfied: charset-normalizer~=2.0.0 in c:\\users\\ertat\\appdata\\local\\programs\\python\\python39\\lib\\site-packages (from requests->dash>=2.6.0->open3d) (2.0.12)\n",
      "Requirement already satisfied: urllib3<1.27,>=1.21.1 in c:\\users\\ertat\\appdata\\local\\programs\\python\\python39\\lib\\site-packages (from requests->dash>=2.6.0->open3d) (1.26.9)\n",
      "Requirement already satisfied: idna<4,>=2.5 in c:\\users\\ertat\\appdata\\local\\programs\\python\\python39\\lib\\site-packages (from requests->dash>=2.6.0->open3d) (3.3)\n",
      "Requirement already satisfied: certifi>=2017.4.17 in c:\\users\\ertat\\appdata\\local\\programs\\python\\python39\\lib\\site-packages (from requests->dash>=2.6.0->open3d) (2022.5.18.1)\n",
      "Requirement already satisfied: six>=1.7.0 in c:\\users\\ertat\\appdata\\local\\programs\\python\\python39\\lib\\site-packages (from retrying->dash>=2.6.0->open3d) (1.16.0)\n",
      "Requirement already satisfied: parso<0.9.0,>=0.8.0 in c:\\users\\ertat\\appdata\\local\\programs\\python\\python39\\lib\\site-packages (from jedi>=0.16->ipython>=6.1.0->ipywidgets>=8.0.4->open3d) (0.8.3)\n",
      "Requirement already satisfied: wcwidth in c:\\users\\ertat\\appdata\\local\\programs\\python\\python39\\lib\\site-packages (from prompt-toolkit!=3.0.0,!=3.0.1,<3.1.0,>=2.0.0->ipython>=6.1.0->ipywidgets>=8.0.4->open3d) (0.2.5)\n",
      "Requirement already satisfied: pyparsing!=3.0.5,>=2.0.2 in c:\\users\\ertat\\appdata\\local\\programs\\python\\python39\\lib\\site-packages (from packaging->plotly>=5.0.0->dash>=2.6.0->open3d) (3.0.9)\n",
      "Requirement already satisfied: executing in c:\\users\\ertat\\appdata\\local\\programs\\python\\python39\\lib\\site-packages (from stack-data->ipython>=6.1.0->ipywidgets>=8.0.4->open3d) (0.8.3)\n",
      "Requirement already satisfied: asttokens in c:\\users\\ertat\\appdata\\local\\programs\\python\\python39\\lib\\site-packages (from stack-data->ipython>=6.1.0->ipywidgets>=8.0.4->open3d) (2.0.5)\n",
      "Requirement already satisfied: pure-eval in c:\\users\\ertat\\appdata\\local\\programs\\python\\python39\\lib\\site-packages (from stack-data->ipython>=6.1.0->ipywidgets>=8.0.4->open3d) (0.2.2)\n",
      "Note: you may need to restart the kernel to use updated packages.\n"
     ]
    },
    {
     "name": "stderr",
     "output_type": "stream",
     "text": [
      "\n",
      "[notice] A new release of pip available: 22.2.2 -> 25.1.1\n",
      "[notice] To update, run: python.exe -m pip install --upgrade pip\n"
     ]
    }
   ],
   "source": [
    "pip install opencv-python numpy open3d scikit-learn"
   ]
  },
  {
   "cell_type": "code",
   "execution_count": 6,
   "metadata": {},
   "outputs": [
    {
     "ename": "error",
     "evalue": "OpenCV(4.6.0) D:\\a\\opencv-python\\opencv-python\\opencv\\modules\\imgcodecs\\src\\loadsave.cpp:801: error: (-215:Assertion failed) !_img.empty() in function 'cv::imwrite'\n",
     "output_type": "error",
     "traceback": [
      "\u001b[1;31m---------------------------------------------------------------------------\u001b[0m",
      "\u001b[1;31merror\u001b[0m                                     Traceback (most recent call last)",
      "Input \u001b[1;32mIn [6]\u001b[0m, in \u001b[0;36m<cell line: 47>\u001b[1;34m()\u001b[0m\n\u001b[0;32m     44\u001b[0m     \u001b[38;5;28;01mreturn\u001b[39;00m augmented\n\u001b[0;32m     46\u001b[0m \u001b[38;5;66;03m# Usage - replace \"your_image.jpg\" with your file\u001b[39;00m\n\u001b[1;32m---> 47\u001b[0m \u001b[43maugment_image\u001b[49m\u001b[43m(\u001b[49m\u001b[38;5;124;43m\"\u001b[39;49m\u001b[38;5;124;43mcahir.jpg\u001b[39;49m\u001b[38;5;124;43m\"\u001b[39;49m\u001b[43m)\u001b[49m\n",
      "Input \u001b[1;32mIn [6]\u001b[0m, in \u001b[0;36maugment_image\u001b[1;34m(img_path, output_folder)\u001b[0m\n\u001b[0;32m     13\u001b[0m \u001b[38;5;66;03m# 1. Original\u001b[39;00m\n\u001b[0;32m     14\u001b[0m augmented\u001b[38;5;241m.\u001b[39mappend(img)\n\u001b[1;32m---> 15\u001b[0m \u001b[43mcv2\u001b[49m\u001b[38;5;241;43m.\u001b[39;49m\u001b[43mimwrite\u001b[49m\u001b[43m(\u001b[49m\u001b[38;5;124;43mf\u001b[39;49m\u001b[38;5;124;43m\"\u001b[39;49m\u001b[38;5;132;43;01m{\u001b[39;49;00m\u001b[43moutput_folder\u001b[49m\u001b[38;5;132;43;01m}\u001b[39;49;00m\u001b[38;5;124;43m/original.jpg\u001b[39;49m\u001b[38;5;124;43m\"\u001b[39;49m\u001b[43m,\u001b[49m\u001b[43m \u001b[49m\u001b[43mimg\u001b[49m\u001b[43m)\u001b[49m\n\u001b[0;32m     17\u001b[0m \u001b[38;5;66;03m# 2. Flipped horizontally\u001b[39;00m\n\u001b[0;32m     18\u001b[0m flip_h \u001b[38;5;241m=\u001b[39m cv2\u001b[38;5;241m.\u001b[39mflip(img, \u001b[38;5;241m1\u001b[39m)\n",
      "\u001b[1;31merror\u001b[0m: OpenCV(4.6.0) D:\\a\\opencv-python\\opencv-python\\opencv\\modules\\imgcodecs\\src\\loadsave.cpp:801: error: (-215:Assertion failed) !_img.empty() in function 'cv::imwrite'\n"
     ]
    }
   ],
   "source": [
    "import cv2\n",
    "import numpy as np\n",
    "import os\n",
    "\n",
    "def augment_image(img_path, output_folder=\"augmented_images\"):\n",
    "    \"\"\"Generate 8 variations of your image\"\"\"\n",
    "    os.makedirs(output_folder, exist_ok=True)\n",
    "    img = cv2.imread(img_path)\n",
    "    \n",
    "    # List to store augmented images\n",
    "    augmented = []\n",
    "    \n",
    "    # 1. Original\n",
    "    augmented.append(img)\n",
    "    cv2.imwrite(f\"{output_folder}/original.jpg\", img)\n",
    "    \n",
    "    # 2. Flipped horizontally\n",
    "    flip_h = cv2.flip(img, 1)\n",
    "    augmented.append(flip_h)\n",
    "    cv2.imwrite(f\"{output_folder}/flip_h.jpg\", flip_h)\n",
    "    \n",
    "    # 3. Rotated +15 degrees\n",
    "    M = cv2.getRotationMatrix2D((img.shape[1]//2, img.shape[0]//2), 15, 1)\n",
    "    rot1 = cv2.warpAffine(img, M, (img.shape[1], img.shape[0]))\n",
    "    augmented.append(rot1)\n",
    "    cv2.imwrite(f\"{output_folder}/rot15.jpg\", rot1)\n",
    "    \n",
    "    # 4. Rotated -15 degrees\n",
    "    M = cv2.getRotationMatrix2D((img.shape[1]//2, img.shape[0]//2), -15, 1)\n",
    "    rot2 = cv2.warpAffine(img, M, (img.shape[1], img.shape[0]))\n",
    "    augmented.append(rot2)\n",
    "    cv2.imwrite(f\"{output_folder}/rot-15.jpg\", rot2)\n",
    "    \n",
    "    # 5. Brightened\n",
    "    bright = cv2.convertScaleAbs(img, alpha=1.2, beta=30)\n",
    "    augmented.append(bright)\n",
    "    cv2.imwrite(f\"{output_folder}/bright.jpg\", bright)\n",
    "    \n",
    "    # 6. Darkened\n",
    "    dark = cv2.convertScaleAbs(img, alpha=0.8, beta=-30)\n",
    "    augmented.append(dark)\n",
    "    cv2.imwrite(f\"{output_folder}/dark.jpg\", dark)\n",
    "    \n",
    "    return augmented\n",
    "\n",
    "# Usage - replace \"your_image.jpg\" with your file\n",
    "augment_image(\"cahir.jpg\")"
   ]
  }
 ],
 "metadata": {
  "kernelspec": {
   "display_name": "Python 3",
   "language": "python",
   "name": "python3"
  },
  "language_info": {
   "codemirror_mode": {
    "name": "ipython",
    "version": 3
   },
   "file_extension": ".py",
   "mimetype": "text/x-python",
   "name": "python",
   "nbconvert_exporter": "python",
   "pygments_lexer": "ipython3",
   "version": "3.9.10"
  }
 },
 "nbformat": 4,
 "nbformat_minor": 2
}
