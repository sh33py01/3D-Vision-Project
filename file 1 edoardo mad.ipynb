{
 "cells": [
  {
   "cell_type": "markdown",
   "metadata": {},
   "source": [
    "Prepare ShapeNet Data:\n",
    "Download ShapeNet point clouds or convert from meshes using tools like trimesh\n",
    "Save each point cloud as a .npy file in a structured directory\n",
    "\n",
    "Training:\n",
    "Update \"path_to_shapenet_point_clouds\" in the dataset initialization\n",
    "Run train_point_cloud_gan()\n",
    "Monitor losses and visualize generated samples\n",
    "\n",
    "Generation:\n",
    "After training, load the generator:\n",
    "////\n",
    "generator = Generator().to(device)\n",
    "generator.load_state_dict(torch.load(\"generator.pth\"))\n",
    "Generate new point clouds:\n",
    "///\n",
    "z = torch.randn(1, latent_dim).to(device)\n",
    "new_pc = generator(z).cpu().numpy()[0]\n",
    "visualize_point_cloud(new_pc)"
   ]
  },
  {
   "cell_type": "markdown",
   "metadata": {},
   "source": [
    "---"
   ]
  },
  {
   "cell_type": "markdown",
   "metadata": {},
   "source": [
    "Imports and Setup"
   ]
  },
  {
   "cell_type": "code",
   "execution_count": 35,
   "metadata": {},
   "outputs": [],
   "source": [
    "import os\n",
    "import numpy as np\n",
    "import torch\n",
    "from torch.utils.data import Dataset, DataLoader\n",
    "from tqdm import tqdm\n",
    "import open3d as o3d\n",
    "import torch.nn as nn\n",
    "import traceback\n",
    "import matplotlib.pyplot as plt\n",
    "from mpl_toolkits.mplot3d import Axes3D\n",
    "from scipy.spatial.distance import cdist\n",
    "from sklearn.neighbors import NearestNeighbors"
   ]
  },
  {
   "cell_type": "code",
   "execution_count": 46,
   "metadata": {},
   "outputs": [
    {
     "name": "stdout",
     "output_type": "stream",
     "text": [
      "Collecting POT\n",
      "  Downloading POT-0.9.5-cp39-cp39-win_amd64.whl (348 kB)\n",
      "     -------------------------------------- 348.4/348.4 kB 2.7 MB/s eta 0:00:00\n",
      "Requirement already satisfied: scipy>=1.6 in c:\\users\\ertat\\appdata\\local\\programs\\python\\python39\\lib\\site-packages (from POT) (1.8.1)\n",
      "Requirement already satisfied: numpy>=1.16 in c:\\users\\ertat\\appdata\\local\\programs\\python\\python39\\lib\\site-packages (from POT) (1.22.4)\n",
      "Installing collected packages: POT\n",
      "Successfully installed POT-0.9.5\n",
      "Note: you may need to restart the kernel to use updated packages.\n"
     ]
    },
    {
     "name": "stderr",
     "output_type": "stream",
     "text": [
      "\n",
      "[notice] A new release of pip available: 22.2.2 -> 25.1.1\n",
      "[notice] To update, run: python.exe -m pip install --upgrade pip\n"
     ]
    }
   ],
   "source": [
    "pip install POT"
   ]
  },
  {
   "cell_type": "code",
   "execution_count": null,
   "metadata": {},
   "outputs": [
    {
     "name": "stdout",
     "output_type": "stream",
     "text": [
      "Looking in indexes: https://download.pytorch.org/whl/cu118\n",
      "Requirement already satisfied: torch in c:\\users\\ertat\\appdata\\local\\programs\\python\\python39\\lib\\site-packages (2.7.1+cu118)\n",
      "Requirement already satisfied: torchvision in c:\\users\\ertat\\appdata\\local\\programs\\python\\python39\\lib\\site-packages (0.22.1)\n",
      "Requirement already satisfied: torchaudio in c:\\users\\ertat\\appdata\\local\\programs\\python\\python39\\lib\\site-packages (2.7.1+cu118)\n",
      "Requirement already satisfied: filelock in c:\\users\\ertat\\appdata\\local\\programs\\python\\python39\\lib\\site-packages (from torch) (3.18.0)\n",
      "Requirement already satisfied: typing-extensions>=4.10.0 in c:\\users\\ertat\\appdata\\local\\programs\\python\\python39\\lib\\site-packages (from torch) (4.14.0)\n",
      "Requirement already satisfied: jinja2 in c:\\users\\ertat\\appdata\\local\\programs\\python\\python39\\lib\\site-packages (from torch) (3.1.2)\n",
      "Requirement already satisfied: sympy>=1.13.3 in c:\\users\\ertat\\appdata\\local\\programs\\python\\python39\\lib\\site-packages (from torch) (1.14.0)\n",
      "Requirement already satisfied: fsspec in c:\\users\\ertat\\appdata\\local\\programs\\python\\python39\\lib\\site-packages (from torch) (2025.5.1)\n",
      "Requirement already satisfied: networkx in c:\\users\\ertat\\appdata\\local\\programs\\python\\python39\\lib\\site-packages (from torch) (3.2.1)\n",
      "Requirement already satisfied: pillow!=8.3.*,>=5.3.0 in c:\\users\\ertat\\appdata\\local\\programs\\python\\python39\\lib\\site-packages (from torchvision) (9.0.1)\n",
      "Requirement already satisfied: numpy in c:\\users\\ertat\\appdata\\local\\programs\\python\\python39\\lib\\site-packages (from torchvision) (1.22.4)\n",
      "Requirement already satisfied: mpmath<1.4,>=1.1.0 in c:\\users\\ertat\\appdata\\local\\programs\\python\\python39\\lib\\site-packages (from sympy>=1.13.3->torch) (1.3.0)\n",
      "Requirement already satisfied: MarkupSafe>=2.0 in c:\\users\\ertat\\appdata\\local\\programs\\python\\python39\\lib\\site-packages (from jinja2->torch) (2.1.1)\n",
      "Note: you may need to restart the kernel to use updated packages.\n"
     ]
    },
    {
     "name": "stderr",
     "output_type": "stream",
     "text": [
      "\n",
      "[notice] A new release of pip available: 22.2.2 -> 25.1.1\n",
      "[notice] To update, run: python.exe -m pip install --upgrade pip\n"
     ]
    }
   ],
   "source": [
    "pip install torch torchvision torchaudio --index-url https://download.pytorch.org/whl/cu118"
   ]
  },
  {
   "cell_type": "markdown",
   "metadata": {},
   "source": [
    "## Database conversion\n",
    "The original dataset contains files in .off file format, which is incompatible with the subsequent code.\\\n",
    "This chunk of code converts them into .npy file format, compatible with the subsequent code."
   ]
  },
  {
   "cell_type": "markdown",
   "metadata": {},
   "source": [
    "Gloabl Variables"
   ]
  },
  {
   "cell_type": "code",
   "execution_count": null,
   "metadata": {},
   "outputs": [],
   "source": [
    "# Global variables\n",
    "generator = None\n",
    "latent_dim = None"
   ]
  },
  {
   "cell_type": "markdown",
   "metadata": {},
   "source": [
    "Utility Functions "
   ]
  },
  {
   "cell_type": "code",
   "execution_count": 36,
   "metadata": {},
   "outputs": [],
   "source": [
    "def save_point_cloud(points, filename):\n",
    "    \"\"\" Save point cloud to PLY file \"\"\"\n",
    "    pcd = o3d.geometry.PointCloud()\n",
    "    pcd.points = o3d.utility.Vector3dVector(points)\n",
    "    o3d.io.write_point_cloud(filename, pcd)\n",
    "\n",
    "def visualize_point_cloud(points):\n",
    "    \"\"\" Interactive visualization \"\"\"\n",
    "    pcd = o3d.geometry.PointCloud()\n",
    "    pcd.points = o3d.utility.Vector3dVector(points)\n",
    "    o3d.visualization.draw_geometries([pcd])"
   ]
  },
  {
   "cell_type": "markdown",
   "metadata": {},
   "source": [
    "Dataset Class"
   ]
  },
  {
   "cell_type": "code",
   "execution_count": 37,
   "metadata": {},
   "outputs": [],
   "source": [
    "class PointCloudDataset(Dataset):\n",
    "    def __init__(self, root_dir, num_points=2048, split='train'):\n",
    "        self.root_dir = root_dir\n",
    "        self.num_points = num_points\n",
    "        self.files = []\n",
    "        \n",
    "        if not os.path.exists(root_dir):\n",
    "            raise ValueError(f\"Directory {root_dir} does not exist\")\n",
    "            \n",
    "        for class_dir in os.listdir(root_dir):\n",
    "            class_path = os.path.join(root_dir, class_dir)\n",
    "            if os.path.isdir(class_path):\n",
    "                for file in os.listdir(class_path):\n",
    "                    if file.endswith('.npy'):\n",
    "                        self.files.append(os.path.join(class_path, file))\n",
    "        \n",
    "        if len(self.files) == 0:\n",
    "            raise ValueError(f\"No .npy files found in {root_dir}\")\n",
    "\n",
    "        split_idx = int(0.8 * len(self.files))\n",
    "        self.files = self.files[:split_idx] if split == 'train' else self.files[split_idx:]\n",
    "\n",
    "    def __len__(self):\n",
    "        return len(self.files)\n",
    "\n",
    "    def __getitem__(self, idx):\n",
    "        try:\n",
    "            pc = np.load(self.files[idx], allow_pickle=True)\n",
    "\n",
    "            if pc.shape[0] > self.num_points:\n",
    "                idxs = np.random.choice(pc.shape[0], self.num_points, replace=False)\n",
    "                pc = pc[idxs]\n",
    "            elif pc.shape[0] < self.num_points:\n",
    "                idxs = np.random.choice(pc.shape[0], self.num_points, replace=True)\n",
    "                pc = pc[idxs]\n",
    "\n",
    "            pc = torch.from_numpy(pc).float()\n",
    "            pc = self.normalize_point_cloud(pc)\n",
    "            return pc\n",
    "\n",
    "        except Exception as e:\n",
    "            print(f\"Error loading index {idx}, file: {self.files[idx]}\")\n",
    "            print(f\"Exception: {e}\")\n",
    "            return torch.zeros((self.num_points, 3))  # or raise the error again \n",
    "\n",
    "    def normalize_point_cloud(self, pc):\n",
    "        \"\"\" Normalize point cloud to fit in [-1, 1] cube \"\"\"\n",
    "        centroid = torch.mean(pc, dim=0)\n",
    "        pc = pc - centroid\n",
    "        max_dist = torch.max(torch.sqrt(torch.sum(pc**2, dim=1)))\n",
    "        pc = pc / max_dist\n",
    "        return pc"
   ]
  },
  {
   "cell_type": "markdown",
   "metadata": {},
   "source": [
    "Model Definitions "
   ]
  },
  {
   "cell_type": "code",
   "execution_count": 38,
   "metadata": {},
   "outputs": [],
   "source": [
    "class Generator(nn.Module):\n",
    "    def __init__(self, latent_dim, num_points):\n",
    "        super(Generator, self).__init__()\n",
    "        self.latent_dim = latent_dim\n",
    "        self.num_points = num_points\n",
    "        \n",
    "        # Fully connected layers with batch norm and leaky ReLU\n",
    "        self.model = nn.Sequential(\n",
    "            nn.Linear(latent_dim, 256),\n",
    "            nn.BatchNorm1d(256),\n",
    "            nn.LeakyReLU(0.2),\n",
    "            \n",
    "            nn.Linear(256, 512),\n",
    "            nn.BatchNorm1d(512),\n",
    "            nn.LeakyReLU(0.2),\n",
    "            \n",
    "            nn.Linear(512, 1024),\n",
    "            nn.BatchNorm1d(1024),\n",
    "            nn.LeakyReLU(0.2),\n",
    "            \n",
    "            nn.Linear(1024, 2048),\n",
    "            nn.BatchNorm1d(2048),\n",
    "            nn.LeakyReLU(0.2),\n",
    "            \n",
    "            # Final layer outputs 3D coordinates (x,y,z) for each point\n",
    "            nn.Linear(2048, num_points * 3),\n",
    "            nn.Tanh()  # Tanh keeps outputs in [-1,1] range\n",
    "        )\n",
    "\n",
    "    def forward(self, z):\n",
    "        batch_size = z.size(0)\n",
    "        # Generate point cloud\n",
    "        pc = self.model(z)\n",
    "        # Reshape to [batch_size, num_points, 3]\n",
    "        pc = pc.view(batch_size, self.num_points, 3)\n",
    "        return pc\n",
    "\n",
    "class Discriminator(nn.Module):\n",
    "    def __init__(self, num_points=2048):\n",
    "        super(Discriminator, self).__init__()\n",
    "        self.num_points = num_points\n",
    "        \n",
    "        # Shared MLP layers (similar to PointNet)\n",
    "        self.conv1 = nn.Conv1d(3, 64, 1)  # Input channels: 3 (x,y,z), output: 64\n",
    "        self.conv2 = nn.Conv1d(64, 128, 1)\n",
    "        self.conv3 = nn.Conv1d(128, 256, 1)\n",
    "        \n",
    "        self.bn1 = nn.BatchNorm1d(64)\n",
    "        self.bn2 = nn.BatchNorm1d(128)\n",
    "        self.bn3 = nn.BatchNorm1d(256)\n",
    "        \n",
    "        # Global feature layer\n",
    "        self.global_conv = nn.Conv1d(256, 512, 1)\n",
    "        self.global_bn = nn.BatchNorm1d(512)\n",
    "        \n",
    "        # Classification layers\n",
    "        self.fc1 = nn.Linear(512, 256)\n",
    "        self.fc2 = nn.Linear(256, 1)\n",
    "        self.relu = nn.ReLU()\n",
    "        self.sigmoid = nn.Sigmoid()\n",
    "    \n",
    "    def forward(self, x):\n",
    "        # x shape: (batch_size, num_points, 3)\n",
    "        x = x.transpose(2, 1)  # Convert to (batch_size, 3, num_points)\n",
    "        \n",
    "        # Shared MLP\n",
    "        x = self.relu(self.bn1(self.conv1(x)))\n",
    "        x = self.relu(self.bn2(self.conv2(x)))\n",
    "        x = self.relu(self.bn3(self.conv3(x)))\n",
    "        \n",
    "        # Global features\n",
    "        x = self.relu(self.global_bn(self.global_conv(x)))\n",
    "        x = torch.max(x, 2, keepdim=True)[0]  # Global max pooling\n",
    "        x = x.view(-1, 512)\n",
    "        \n",
    "        # Classification\n",
    "        x = self.relu(self.fc1(x))\n",
    "        x = self.fc2(x)\n",
    "        x = self.sigmoid(x)\n",
    "        return x"
   ]
  },
  {
   "cell_type": "markdown",
   "metadata": {},
   "source": [
    "Training Utilities"
   ]
  },
  {
   "cell_type": "code",
   "execution_count": 39,
   "metadata": {},
   "outputs": [],
   "source": [
    "def gradient_penalty(discriminator, real_samples, fake_samples, device):\n",
    "    \"\"\" Calculates the gradient penalty loss for WGAN-GP \"\"\"\n",
    "    batch_size = real_samples.size(0)\n",
    "    # Random weight term for interpolation\n",
    "    alpha = torch.rand(batch_size, 1, 1).to(device)\n",
    "    # Get random interpolation between real and fake samples\n",
    "    interpolates = (alpha * real_samples + ((1 - alpha) * fake_samples)).requires_grad_(True)\n",
    "    \n",
    "    d_interpolates = discriminator(interpolates)\n",
    "    fake = torch.ones(batch_size, 1).to(device)\n",
    "    \n",
    "    # Get gradient w.r.t. interpolates\n",
    "    gradients = torch.autograd.grad(\n",
    "        outputs=d_interpolates,\n",
    "        inputs=interpolates,\n",
    "        grad_outputs=fake,\n",
    "        create_graph=True,\n",
    "        retain_graph=True,\n",
    "        only_inputs=True,\n",
    "    )[0]\n",
    "    gradients = gradients.reshape(gradients.size(0), -1)\n",
    "    gradient_penalty = ((gradients.norm(2, dim=1) - 1) ** 2).mean()\n",
    "    return gradient_penalty"
   ]
  },
  {
   "cell_type": "markdown",
   "metadata": {},
   "source": [
    "Evaluation Metrics"
   ]
  },
  {
   "cell_type": "code",
   "execution_count": 40,
   "metadata": {},
   "outputs": [],
   "source": [
    "def chamfer_distance(pc1, pc2):\n",
    "    \"\"\"Compute Chamfer Distance between two point clouds\"\"\"\n",
    "    dist = cdist(pc1, pc2)\n",
    "    return np.mean(np.min(dist, axis=0)) + np.mean(np.min(dist, axis=1))\n",
    "\n",
    "def earth_movers_distance(pc1, pc2):\n",
    "    \"\"\"Approximate EMD using the Sinkhorn algorithm\"\"\"\n",
    "    from ot import emd\n",
    "    # Normalize to probability distributions\n",
    "    pc1 = pc1 / np.sum(pc1, axis=1, keepdims=True)\n",
    "    pc2 = pc2 / np.sum(pc2, axis=1, keepdims=True)\n",
    "    cost_matrix = cdist(pc1, pc2)\n",
    "    return emd([], [], cost_matrix)\n",
    "\n",
    "def evaluate_model(generator, latent_dim, real_dataset, num_samples=100, device='cuda'):\n",
    "    \"\"\"Comprehensive evaluation of generated samples\"\"\"\n",
    "    generator.eval()\n",
    "    \n",
    "    # Generate samples\n",
    "    fake_pcs = []\n",
    "    with torch.no_grad():\n",
    "        for _ in range(num_samples):\n",
    "            z = torch.randn(1, latent_dim).to(device)\n",
    "            fake_pc = generator(z).cpu().numpy()[0]\n",
    "            fake_pcs.append(fake_pc)\n",
    "    \n",
    "    # Get real samples\n",
    "    real_pcs = [real_dataset[i].numpy() for i in range(num_samples)]\n",
    "    \n",
    "    # Compute metrics\n",
    "    cd_scores, emd_scores = [], []\n",
    "    for real_pc, fake_pc in zip(real_pcs, fake_pcs):\n",
    "        cd_scores.append(chamfer_distance(real_pc, fake_pc))\n",
    "        emd_scores.append(earth_movers_distance(real_pc, fake_pc))\n",
    "    \n",
    "    return {\n",
    "        'chamfer_distance': np.mean(cd_scores),\n",
    "        'earth_movers_distance': np.mean(emd_scores),\n",
    "        'samples': (real_pcs, fake_pcs)\n",
    "    }"
   ]
  },
  {
   "cell_type": "markdown",
   "metadata": {},
   "source": [
    "Visualization Functions"
   ]
  },
  {
   "cell_type": "code",
   "execution_count": 41,
   "metadata": {},
   "outputs": [],
   "source": [
    "def visualize_comparison(real_pc, fake_pc, save_path=None):\n",
    "    \"\"\"Visualize real vs generated point clouds side by side\"\"\"\n",
    "    fig = plt.figure(figsize=(12, 6))\n",
    "    \n",
    "    # Real point cloud\n",
    "    ax1 = fig.add_subplot(121, projection='3d')\n",
    "    ax1.scatter(real_pc[:,0], real_pc[:,1], real_pc[:,2], s=1)\n",
    "    ax1.set_title('Real Point Cloud')\n",
    "    ax1.set_axis_off()\n",
    "    \n",
    "    # Generated point cloud\n",
    "    ax2 = fig.add_subplot(122, projection='3d')\n",
    "    ax2.scatter(fake_pc[:,0], fake_pc[:,1], fake_pc[:,2], s=1)\n",
    "    ax2.set_title('Generated Point Cloud')\n",
    "    ax2.set_axis_off()\n",
    "    \n",
    "    if save_path:\n",
    "        plt.savefig(save_path, bbox_inches='tight', dpi=300)\n",
    "    plt.show()\n",
    "\n",
    "def generate_and_save_samples(generator, latent_dim, num_samples=5, device='cuda'):\n",
    "    \"\"\"Generate and save sample point clouds\"\"\"\n",
    "    generator.eval()\n",
    "    os.makedirs('samples', exist_ok=True)\n",
    "    \n",
    "    with torch.no_grad():\n",
    "        for i in range(num_samples):\n",
    "            z = torch.randn(1, latent_dim).to(device)\n",
    "            pc = generator(z).cpu().numpy()[0]\n",
    "            \n",
    "            # Save as PLY and PNG\n",
    "            save_path = f'samples/sample_{i}'\n",
    "            save_point_cloud(pc, f'{save_path}.ply')\n",
    "            \n",
    "            # Create visualization\n",
    "            fig = plt.figure(figsize=(6,6))\n",
    "            ax = fig.add_subplot(111, projection='3d')\n",
    "            ax.scatter(pc[:,0], pc[:,1], pc[:,2], s=1)\n",
    "            ax.set_axis_off()\n",
    "            plt.savefig(f'{save_path}.png', bbox_inches='tight', dpi=150)\n",
    "            plt.close()"
   ]
  },
  {
   "cell_type": "markdown",
   "metadata": {},
   "source": [
    "Post-Training Analysis Script\n"
   ]
  },
  {
   "cell_type": "code",
   "execution_count": null,
   "metadata": {},
   "outputs": [],
   "source": [
    "def analyze_results(generator, latent_dim, run_dir='results'):\n",
    "    \"\"\"Analyze and visualize training results\"\"\"\n",
    "    # 1. Plot training curves (would need to modify to log losses)\n",
    "    # plot_training_curves(run_dir)\n",
    "    \n",
    "    # 2. Create interpolation video\n",
    "    create_interpolation_video(generator, latent_dim)\n",
    "    \n",
    "    # 3. Create HTML visualization\n",
    "    generate_html_viewer(run_dir)\n",
    "\n",
    "def plot_training_curves(run_dir):\n",
    "    \"\"\"Plot loss and metric curves\"\"\"\n",
    "    # Implement reading from log files and plotting\n",
    "    pass\n",
    "\n",
    "def create_interpolation_video(generator, latent_dim, num_frames=60):\n",
    "    \"\"\"Create interpolation between random points in latent space\"\"\"\n",
    "    z1 = torch.randn(1, latent_dim)\n",
    "    z2 = torch.randn(1, latent_dim)\n",
    "    \n",
    "    os.makedirs('interpolation', exist_ok=True)\n",
    "    \n",
    "    for i in range(num_frames):\n",
    "        alpha = i / num_frames\n",
    "        z = alpha * z1 + (1-alpha) * z2\n",
    "        pc = generator(z).cpu().numpy()[0]\n",
    "        \n",
    "        fig = plt.figure()\n",
    "        ax = fig.add_subplot(111, projection='3d')\n",
    "        ax.scatter(pc[:,0], pc[:,1], pc[:,2], s=1)\n",
    "        plt.savefig(f'interpolation/frame_{i:03d}.png')\n",
    "        plt.close()\n",
    "    \n",
    "    # Use ffmpeg to create video\n",
    "    os.system('ffmpeg -r 30 -i interpolation/frame_%03d.png -vcodec libx264 -crf 25 interpolation.mp4')"
   ]
  },
  {
   "cell_type": "markdown",
   "metadata": {},
   "source": [
    " Enhanced Evaluation Metrics Implementation"
   ]
  },
  {
   "cell_type": "code",
   "execution_count": 43,
   "metadata": {},
   "outputs": [],
   "source": [
    "import numpy as np\n",
    "from scipy.spatial.distance import cdist\n",
    "from sklearn.neighbors import NearestNeighbors\n",
    "\n",
    "def chamfer_distance(pc1, pc2):\n",
    "    \"\"\"Compute Chamfer Distance between two point clouds\"\"\"\n",
    "    dist = cdist(pc1, pc2)\n",
    "    return np.mean(np.min(dist, axis=0)) + np.mean(np.min(dist, axis=1))\n",
    "\n",
    "def earth_movers_distance(pc1, pc2):\n",
    "    \"\"\"Approximate EMD using the Sinkhorn algorithm\"\"\"\n",
    "    from ot import emd\n",
    "    # Normalize to probability distributions\n",
    "    pc1 = pc1 / np.sum(pc1, axis=1, keepdims=True)\n",
    "    pc2 = pc2 / np.sum(pc2, axis=1, keepdims=True)\n",
    "    cost_matrix = cdist(pc1, pc2)\n",
    "    return emd([], [], cost_matrix)\n",
    "\n",
    "def evaluate_model(generator, latent_dim, real_dataset, num_samples=100, device='cuda'):\n",
    "    \"\"\"Comprehensive evaluation of generated samples\"\"\"\n",
    "    generator.eval()\n",
    "    \n",
    "    # Generate samples\n",
    "    fake_pcs = []\n",
    "    with torch.no_grad():\n",
    "        for _ in range(num_samples):\n",
    "            z = torch.randn(1, latent_dim).to(device)\n",
    "            fake_pc = generator(z).cpu().numpy()[0]\n",
    "            fake_pcs.append(fake_pc)\n",
    "    \n",
    "    # Get real samples\n",
    "    real_pcs = [real_dataset[i].numpy() for i in range(num_samples)]\n",
    "    \n",
    "    # Compute metrics\n",
    "    cd_scores, emd_scores = [], []\n",
    "    for real_pc, fake_pc in zip(real_pcs, fake_pcs):\n",
    "        cd_scores.append(chamfer_distance(real_pc, fake_pc))\n",
    "        emd_scores.append(earth_movers_distance(real_pc, fake_pc))\n",
    "    \n",
    "    return {\n",
    "        'chamfer_distance': np.mean(cd_scores),\n",
    "        'earth_movers_distance': np.mean(emd_scores),\n",
    "        'samples': (real_pcs, fake_pcs)\n",
    "    }"
   ]
  },
  {
   "cell_type": "markdown",
   "metadata": {},
   "source": [
    "Training Function"
   ]
  },
  {
   "cell_type": "code",
   "execution_count": null,
   "metadata": {},
   "outputs": [],
   "source": [
    "def train_point_cloud_gan():\n",
    "    global global_generator, global_latent_dim \n",
    "    # Hyperparameters\n",
    "    device = torch.device(\"cuda\" if torch.cuda.is_available() else \"cpu\")\n",
    "    global_latent_dim = 62  \n",
    "    num_points = 2048\n",
    "    batch_size = 32\n",
    "    epochs = 16\n",
    "    lr = 0.0005\n",
    "    n_critic = 3\n",
    "    lambda_gp = 7\n",
    "    \n",
    "    # Debug setup\n",
    "    import gc\n",
    "    def print_memory():\n",
    "        if torch.cuda.is_available():\n",
    "            print(f\"GPU Memory: {torch.cuda.memory_allocated()/1e9:.2f}GB / {torch.cuda.memory_reserved()/1e9:.2f}GB\")\n",
    "        gc.collect()\n",
    "\n",
    "    # Create dataset and dataloader\n",
    "    try:\n",
    "        dataset = PointCloudDataset(\"C:/Users/ertat/Downloads/chair\", num_points=num_points)\n",
    "        eval_dataset = PointCloudDataset(\"C:/Users/ertat/Downloads/chair\", num_points=num_points, split='test')\n",
    "        print(f\"Dataset loaded with {len(dataset)} samples (train), {len(eval_dataset)} samples (test)\")\n",
    "\n",
    "        dataloader = DataLoader(dataset, batch_size=batch_size, shuffle=True, drop_last=True)\n",
    "        print(f\"Dataloader created with {len(dataloader)} batches of size {batch_size}\")\n",
    "    except Exception as e:\n",
    "        print(f\"Error initializing data: {e}\")\n",
    "        return\n",
    "\n",
    "    # Initialize networks\n",
    "    global_generator = Generator(global_latent_dim, num_points).to(device)\n",
    "    discriminator = Discriminator(num_points).to(device)\n",
    "    global_generator.train()\n",
    "    discriminator.train()\n",
    "\n",
    "    # Optimizers\n",
    "    optimizer_G = torch.optim.Adam(generator.parameters(), lr=lr, betas=(0.5, 0.999))\n",
    "    optimizer_D = torch.optim.Adam(discriminator.parameters(), lr=lr, betas=(0.5, 0.999))\n",
    "    \n",
    "    # Training loop with enhanced monitoring\n",
    "    try:\n",
    "        for epoch in range(epochs):\n",
    "            print(f\"\\n--- Starting Epoch {epoch+1}/{epochs} ---\")\n",
    "            print_memory()\n",
    "            \n",
    "            for i, real_pcs in enumerate(tqdm(dataloader)):\n",
    "                # Skip any problematic batches\n",
    "                if real_pcs.size(0) != batch_size:\n",
    "                    print(f\"\\nSkipping incomplete batch of size {real_pcs.size(0)}\")\n",
    "                    continue\n",
    "                    \n",
    "                real_pcs = real_pcs.to(device)\n",
    "                \n",
    "                # Train Discriminator\n",
    "                optimizer_D.zero_grad()\n",
    "                \n",
    "                # Generate fake point clouds\n",
    "                z = torch.randn(batch_size, latent_dim).to(device)\n",
    "                fake_pcs = generator(z)\n",
    "                \n",
    "                # Real and fake losses\n",
    "                real_loss = -torch.mean(discriminator(real_pcs))\n",
    "                fake_loss = torch.mean(discriminator(fake_pcs.detach()))\n",
    "                \n",
    "                # Gradient penalty\n",
    "                gp = gradient_penalty(discriminator, real_pcs.data, fake_pcs.data, device)\n",
    "                \n",
    "                # Total discriminator loss\n",
    "                d_loss = real_loss + fake_loss + lambda_gp * gp\n",
    "                d_loss.backward()\n",
    "                optimizer_D.step()\n",
    "                \n",
    "                # Train Generator every n_critic steps\n",
    "                if i % n_critic == 0:\n",
    "                    optimizer_G.zero_grad()\n",
    "                    z = torch.randn(batch_size, latent_dim).to(device)\n",
    "                    fake_pcs = generator(z)\n",
    "                    g_loss = -torch.mean(discriminator(fake_pcs))\n",
    "                    g_loss.backward()\n",
    "                    optimizer_G.step()\n",
    "                \n",
    "                # Memory monitoring\n",
    "                if i % 10 == 0:\n",
    "                    print_memory()\n",
    "                    torch.cuda.synchronize()  # Ensure CUDA ops complete\n",
    "            \n",
    "            # Epoch summary\n",
    "            print(f\"[Epoch {epoch}/{epochs}] D loss: {d_loss.item():.4f}, G loss: {g_loss.item():.4f}\")\n",
    "            \n",
    "            # Evaluation and visualization every 5 epochs\n",
    "            if epoch % 5 == 0 or epoch == epochs - 1:\n",
    "                # Save checkpoint\n",
    "                torch.save({\n",
    "                    'epoch': epoch,\n",
    "                    'generator': generator.state_dict(),\n",
    "                    'discriminator': discriminator.state_dict(),\n",
    "                    'optimizer_G': optimizer_G.state_dict(),\n",
    "                    'optimizer_D': optimizer_D.state_dict(),\n",
    "                }, f\"checkpoint_epoch_{epoch}.pth\")\n",
    "                print(f\"Saved checkpoint at epoch {epoch}\")\n",
    "                \n",
    "                # Evaluation\n",
    "                metrics = evaluate_model(generator, latent_dim, eval_dataset, \n",
    "                                      num_samples=50, device=device)\n",
    "                \n",
    "                print(f\"\\nEpoch {epoch} Evaluation:\")\n",
    "                print(f\"Chamfer Distance: {metrics['chamfer_distance']:.4f}\")\n",
    "                print(f\"Earth Movers Distance: {metrics['earth_movers_distance']:.4f}\")\n",
    "                \n",
    "                # Visualize samples\n",
    "                real_sample, fake_sample = metrics['samples'][0][0], metrics['samples'][1][0]\n",
    "                visualize_comparison(real_sample, fake_sample, \n",
    "                                   save_path=f\"results/epoch_{epoch}_comparison.png\")\n",
    "                \n",
    "                # Save samples\n",
    "                generate_and_save_samples(generator, latent_dim, num_samples=5, device=device)\n",
    "                \n",
    "    except torch.cuda.OutOfMemoryError:\n",
    "        print(\"\\nCUDA out of memory! Try:\")\n",
    "        print(f\"- Reducing batch size (currently {batch_size})\")\n",
    "        print(f\"- Using fewer points (currently {num_points})\")\n",
    "        return\n",
    "    except Exception as e:\n",
    "        print(f\"\\nTraining interrupted by {type(e).__name__}: {str(e)}\")\n",
    "        traceback.print_exc()\n",
    "        return\n",
    "\n",
    "    # Final sample generation and analysis\n",
    "    try:\n",
    "        with torch.no_grad():\n",
    "            global_generator.eval()\n",
    "            # Save final sample\n",
    "            sample_z = torch.randn(1, global_latent_dim).to(device)\n",
    "            sample_pc = global_generator(sample_z).cpu().numpy()\n",
    "            save_point_cloud(sample_pc[0], \"final_sample.ply\")\n",
    "            print(\"Saved final sample\")\n",
    "            \n",
    "            # Generate analysis - now using global variables\n",
    "            analyze_results(global_generator, global_latent_dim)\n",
    "            \n",
    "    except Exception as e:\n",
    "        print(f\"Error in final generation: {e}\")\n",
    "\n",
    "    print(\"\\nTraining completed successfully!\")"
   ]
  },
  {
   "cell_type": "markdown",
   "metadata": {},
   "source": [
    "Main Execution Block"
   ]
  },
  {
   "cell_type": "code",
   "execution_count": null,
   "metadata": {},
   "outputs": [
    {
     "name": "stdout",
     "output_type": "stream",
     "text": [
      "Dataset loaded with 791 samples (train), 198 samples (test)\n",
      "Dataloader created with 24 batches of size 32\n",
      "\n",
      "--- Starting Epoch 1/16 ---\n",
      "GPU Memory: 0.34GB / 0.42GB\n"
     ]
    },
    {
     "name": "stderr",
     "output_type": "stream",
     "text": [
      "  4%|▍         | 1/24 [00:00<00:14,  1.60it/s]"
     ]
    },
    {
     "name": "stdout",
     "output_type": "stream",
     "text": [
      "GPU Memory: 0.53GB / 3.05GB\n"
     ]
    },
    {
     "name": "stderr",
     "output_type": "stream",
     "text": [
      " 46%|████▌     | 11/24 [00:03<00:03,  3.27it/s]"
     ]
    },
    {
     "name": "stdout",
     "output_type": "stream",
     "text": [
      "GPU Memory: 0.53GB / 3.32GB\n"
     ]
    },
    {
     "name": "stderr",
     "output_type": "stream",
     "text": [
      " 88%|████████▊ | 21/24 [00:06<00:00,  3.09it/s]"
     ]
    },
    {
     "name": "stdout",
     "output_type": "stream",
     "text": [
      "GPU Memory: 0.53GB / 3.32GB\n"
     ]
    },
    {
     "name": "stderr",
     "output_type": "stream",
     "text": [
      "100%|██████████| 24/24 [00:07<00:00,  3.35it/s]\n"
     ]
    },
    {
     "name": "stdout",
     "output_type": "stream",
     "text": [
      "[Epoch 0/16] D loss: 0.5625, G loss: -0.4229\n",
      "Saved checkpoint at epoch 0\n",
      "\n",
      "Epoch 0 Evaluation:\n",
      "Chamfer Distance: 0.4361\n",
      "Earth Movers Distance: 0.0000\n"
     ]
    },
    {
     "data": {
      "image/png": "[encoded data removed]",
      "text/plain": [
       "<Figure size 864x432 with 2 Axes>"
      ]
     },
     "metadata": {
      "needs_background": "light"
     },
     "output_type": "display_data"
    },
    {
     "name": "stdout",
     "output_type": "stream",
     "text": [
      "\n",
      "--- Starting Epoch 2/16 ---\n",
      "GPU Memory: 0.53GB / 3.32GB\n"
     ]
    },
    {
     "name": "stderr",
     "output_type": "stream",
     "text": [
      "  4%|▍         | 1/24 [00:00<00:14,  1.62it/s]"
     ]
    },
    {
     "name": "stdout",
     "output_type": "stream",
     "text": [
      "GPU Memory: 0.53GB / 3.32GB\n"
     ]
    },
    {
     "name": "stderr",
     "output_type": "stream",
     "text": [
      " 50%|█████     | 12/24 [00:04<00:03,  3.57it/s]"
     ]
    },
    {
     "name": "stdout",
     "output_type": "stream",
     "text": [
      "GPU Memory: 0.53GB / 3.32GB\n"
     ]
    },
    {
     "name": "stderr",
     "output_type": "stream",
     "text": [
      " 88%|████████▊ | 21/24 [00:07<00:01,  2.77it/s]"
     ]
    },
    {
     "name": "stdout",
     "output_type": "stream",
     "text": [
      "GPU Memory: 0.53GB / 3.32GB\n"
     ]
    },
    {
     "name": "stderr",
     "output_type": "stream",
     "text": [
      "100%|██████████| 24/24 [00:08<00:00,  2.91it/s]\n"
     ]
    },
    {
     "name": "stdout",
     "output_type": "stream",
     "text": [
      "[Epoch 1/16] D loss: -0.0581, G loss: -0.3956\n",
      "\n",
      "--- Starting Epoch 3/16 ---\n",
      "GPU Memory: 0.53GB / 3.32GB\n"
     ]
    },
    {
     "name": "stderr",
     "output_type": "stream",
     "text": [
      "  8%|▊         | 2/24 [00:00<00:05,  3.91it/s]"
     ]
    },
    {
     "name": "stdout",
     "output_type": "stream",
     "text": [
      "GPU Memory: 0.53GB / 3.32GB\n"
     ]
    },
    {
     "name": "stderr",
     "output_type": "stream",
     "text": [
      " 46%|████▌     | 11/24 [00:03<00:04,  3.10it/s]"
     ]
    },
    {
     "name": "stdout",
     "output_type": "stream",
     "text": [
      "GPU Memory: 0.53GB / 3.32GB\n"
     ]
    },
    {
     "name": "stderr",
     "output_type": "stream",
     "text": [
      " 88%|████████▊ | 21/24 [00:06<00:01,  3.00it/s]"
     ]
    },
    {
     "name": "stdout",
     "output_type": "stream",
     "text": [
      "GPU Memory: 0.53GB / 3.32GB\n"
     ]
    },
    {
     "name": "stderr",
     "output_type": "stream",
     "text": [
      "100%|██████████| 24/24 [00:07<00:00,  3.37it/s]\n"
     ]
    },
    {
     "name": "stdout",
     "output_type": "stream",
     "text": [
      "[Epoch 2/16] D loss: -0.0693, G loss: -0.7863\n",
      "\n",
      "--- Starting Epoch 4/16 ---\n",
      "GPU Memory: 0.53GB / 3.32GB\n"
     ]
    },
    {
     "name": "stderr",
     "output_type": "stream",
     "text": [
      "  4%|▍         | 1/24 [00:00<00:10,  2.21it/s]"
     ]
    },
    {
     "name": "stdout",
     "output_type": "stream",
     "text": [
      "GPU Memory: 0.53GB / 3.32GB\n"
     ]
    },
    {
     "name": "stderr",
     "output_type": "stream",
     "text": [
      " 46%|████▌     | 11/24 [00:03<00:03,  3.26it/s]"
     ]
    },
    {
     "name": "stdout",
     "output_type": "stream",
     "text": [
      "GPU Memory: 0.53GB / 3.32GB\n"
     ]
    },
    {
     "name": "stderr",
     "output_type": "stream",
     "text": [
      " 88%|████████▊ | 21/24 [00:06<00:00,  3.36it/s]"
     ]
    },
    {
     "name": "stdout",
     "output_type": "stream",
     "text": [
      "GPU Memory: 0.53GB / 3.32GB\n"
     ]
    },
    {
     "name": "stderr",
     "output_type": "stream",
     "text": [
      "100%|██████████| 24/24 [00:06<00:00,  3.52it/s]\n"
     ]
    },
    {
     "name": "stdout",
     "output_type": "stream",
     "text": [
      "[Epoch 3/16] D loss: 0.0531, G loss: -0.4346\n",
      "\n",
      "--- Starting Epoch 5/16 ---\n",
      "GPU Memory: 0.53GB / 3.32GB\n"
     ]
    },
    {
     "name": "stderr",
     "output_type": "stream",
     "text": [
      "  4%|▍         | 1/24 [00:00<00:10,  2.22it/s]"
     ]
    },
    {
     "name": "stdout",
     "output_type": "stream",
     "text": [
      "GPU Memory: 0.53GB / 3.32GB\n"
     ]
    },
    {
     "name": "stderr",
     "output_type": "stream",
     "text": [
      " 46%|████▌     | 11/24 [00:03<00:03,  3.26it/s]"
     ]
    },
    {
     "name": "stdout",
     "output_type": "stream",
     "text": [
      "GPU Memory: 0.53GB / 3.32GB\n"
     ]
    },
    {
     "name": "stderr",
     "output_type": "stream",
     "text": [
      " 88%|████████▊ | 21/24 [00:06<00:00,  3.40it/s]"
     ]
    },
    {
     "name": "stdout",
     "output_type": "stream",
     "text": [
      "GPU Memory: 0.53GB / 3.32GB\n"
     ]
    },
    {
     "name": "stderr",
     "output_type": "stream",
     "text": [
      "100%|██████████| 24/24 [00:06<00:00,  3.58it/s]\n"
     ]
    },
    {
     "name": "stdout",
     "output_type": "stream",
     "text": [
      "[Epoch 4/16] D loss: 2.2406, G loss: -0.8335\n",
      "\n",
      "--- Starting Epoch 6/16 ---\n",
      "GPU Memory: 0.53GB / 3.32GB\n"
     ]
    },
    {
     "name": "stderr",
     "output_type": "stream",
     "text": [
      "  4%|▍         | 1/24 [00:00<00:10,  2.23it/s]"
     ]
    },
    {
     "name": "stdout",
     "output_type": "stream",
     "text": [
      "GPU Memory: 0.53GB / 3.32GB\n"
     ]
    },
    {
     "name": "stderr",
     "output_type": "stream",
     "text": [
      " 46%|████▌     | 11/24 [00:03<00:03,  3.27it/s]"
     ]
    },
    {
     "name": "stdout",
     "output_type": "stream",
     "text": [
      "GPU Memory: 0.53GB / 3.32GB\n"
     ]
    },
    {
     "name": "stderr",
     "output_type": "stream",
     "text": [
      " 88%|████████▊ | 21/24 [00:06<00:00,  3.41it/s]"
     ]
    },
    {
     "name": "stdout",
     "output_type": "stream",
     "text": [
      "GPU Memory: 0.53GB / 3.32GB\n"
     ]
    },
    {
     "name": "stderr",
     "output_type": "stream",
     "text": [
      "100%|██████████| 24/24 [00:06<00:00,  3.59it/s]\n"
     ]
    },
    {
     "name": "stdout",
     "output_type": "stream",
     "text": [
      "[Epoch 5/16] D loss: -0.2170, G loss: -0.4409\n",
      "Saved checkpoint at epoch 5\n",
      "\n",
      "Epoch 5 Evaluation:\n",
      "Chamfer Distance: 0.2934\n",
      "Earth Movers Distance: 0.0000\n"
     ]
    },
    {
     "data": {
      "image/png": "[encoded data removed]",
      "text/plain": [
       "<Figure size 864x432 with 2 Axes>"
      ]
     },
     "metadata": {
      "needs_background": "light"
     },
     "output_type": "display_data"
    },
    {
     "name": "stdout",
     "output_type": "stream",
     "text": [
      "\n",
      "--- Starting Epoch 7/16 ---\n",
      "GPU Memory: 0.53GB / 3.32GB\n"
     ]
    },
    {
     "name": "stderr",
     "output_type": "stream",
     "text": [
      "  8%|▊         | 2/24 [00:00<00:05,  3.92it/s]"
     ]
    },
    {
     "name": "stdout",
     "output_type": "stream",
     "text": [
      "GPU Memory: 0.53GB / 3.32GB\n"
     ]
    },
    {
     "name": "stderr",
     "output_type": "stream",
     "text": [
      " 46%|████▌     | 11/24 [00:02<00:03,  3.76it/s]"
     ]
    },
    {
     "name": "stdout",
     "output_type": "stream",
     "text": [
      "GPU Memory: 0.53GB / 3.32GB\n"
     ]
    },
    {
     "name": "stderr",
     "output_type": "stream",
     "text": [
      " 88%|████████▊ | 21/24 [00:05<00:00,  4.08it/s]"
     ]
    },
    {
     "name": "stdout",
     "output_type": "stream",
     "text": [
      "GPU Memory: 0.53GB / 3.32GB\n"
     ]
    },
    {
     "name": "stderr",
     "output_type": "stream",
     "text": [
      "100%|██████████| 24/24 [00:05<00:00,  4.17it/s]\n"
     ]
    },
    {
     "name": "stdout",
     "output_type": "stream",
     "text": [
      "[Epoch 6/16] D loss: -0.2359, G loss: -0.3985\n",
      "\n",
      "--- Starting Epoch 8/16 ---\n",
      "GPU Memory: 0.53GB / 3.32GB\n"
     ]
    },
    {
     "name": "stderr",
     "output_type": "stream",
     "text": [
      "  4%|▍         | 1/24 [00:00<00:11,  2.09it/s]"
     ]
    },
    {
     "name": "stdout",
     "output_type": "stream",
     "text": [
      "GPU Memory: 0.53GB / 3.32GB\n"
     ]
    },
    {
     "name": "stderr",
     "output_type": "stream",
     "text": [
      " 46%|████▌     | 11/24 [00:02<00:03,  4.14it/s]"
     ]
    },
    {
     "name": "stdout",
     "output_type": "stream",
     "text": [
      "GPU Memory: 0.53GB / 3.32GB\n"
     ]
    },
    {
     "name": "stderr",
     "output_type": "stream",
     "text": [
      " 88%|████████▊ | 21/24 [00:04<00:00,  4.19it/s]"
     ]
    },
    {
     "name": "stdout",
     "output_type": "stream",
     "text": [
      "GPU Memory: 0.53GB / 3.32GB\n"
     ]
    },
    {
     "name": "stderr",
     "output_type": "stream",
     "text": [
      "100%|██████████| 24/24 [00:05<00:00,  4.44it/s]\n"
     ]
    },
    {
     "name": "stdout",
     "output_type": "stream",
     "text": [
      "[Epoch 7/16] D loss: -0.1600, G loss: -0.2558\n",
      "\n",
      "--- Starting Epoch 9/16 ---\n",
      "GPU Memory: 0.53GB / 3.32GB\n"
     ]
    },
    {
     "name": "stderr",
     "output_type": "stream",
     "text": [
      "  4%|▍         | 1/24 [00:00<00:08,  2.65it/s]"
     ]
    },
    {
     "name": "stdout",
     "output_type": "stream",
     "text": [
      "GPU Memory: 0.53GB / 3.32GB\n"
     ]
    },
    {
     "name": "stderr",
     "output_type": "stream",
     "text": [
      " 46%|████▌     | 11/24 [00:02<00:03,  4.05it/s]"
     ]
    },
    {
     "name": "stdout",
     "output_type": "stream",
     "text": [
      "GPU Memory: 0.53GB / 3.32GB\n"
     ]
    },
    {
     "name": "stderr",
     "output_type": "stream",
     "text": [
      " 88%|████████▊ | 21/24 [00:04<00:00,  4.13it/s]"
     ]
    },
    {
     "name": "stdout",
     "output_type": "stream",
     "text": [
      "GPU Memory: 0.53GB / 3.32GB\n"
     ]
    },
    {
     "name": "stderr",
     "output_type": "stream",
     "text": [
      "100%|██████████| 24/24 [00:05<00:00,  4.43it/s]\n"
     ]
    },
    {
     "name": "stdout",
     "output_type": "stream",
     "text": [
      "[Epoch 8/16] D loss: -0.2640, G loss: -0.4039\n",
      "\n",
      "--- Starting Epoch 10/16 ---\n",
      "GPU Memory: 0.53GB / 3.32GB\n"
     ]
    },
    {
     "name": "stderr",
     "output_type": "stream",
     "text": [
      "  8%|▊         | 2/24 [00:00<00:05,  4.31it/s]"
     ]
    },
    {
     "name": "stdout",
     "output_type": "stream",
     "text": [
      "GPU Memory: 0.53GB / 3.32GB\n"
     ]
    },
    {
     "name": "stderr",
     "output_type": "stream",
     "text": [
      " 46%|████▌     | 11/24 [00:02<00:03,  3.78it/s]"
     ]
    },
    {
     "name": "stdout",
     "output_type": "stream",
     "text": [
      "GPU Memory: 0.53GB / 3.32GB\n"
     ]
    },
    {
     "name": "stderr",
     "output_type": "stream",
     "text": [
      " 88%|████████▊ | 21/24 [00:05<00:00,  4.12it/s]"
     ]
    },
    {
     "name": "stdout",
     "output_type": "stream",
     "text": [
      "GPU Memory: 0.53GB / 3.32GB\n"
     ]
    },
    {
     "name": "stderr",
     "output_type": "stream",
     "text": [
      "100%|██████████| 24/24 [00:05<00:00,  4.31it/s]\n"
     ]
    },
    {
     "name": "stdout",
     "output_type": "stream",
     "text": [
      "[Epoch 9/16] D loss: -0.1926, G loss: -0.5159\n",
      "\n",
      "--- Starting Epoch 11/16 ---\n",
      "GPU Memory: 0.53GB / 3.32GB\n"
     ]
    },
    {
     "name": "stderr",
     "output_type": "stream",
     "text": [
      "  4%|▍         | 1/24 [00:00<00:08,  2.72it/s]"
     ]
    },
    {
     "name": "stdout",
     "output_type": "stream",
     "text": [
      "GPU Memory: 0.53GB / 3.32GB\n"
     ]
    },
    {
     "name": "stderr",
     "output_type": "stream",
     "text": [
      " 46%|████▌     | 11/24 [00:02<00:03,  4.05it/s]"
     ]
    },
    {
     "name": "stdout",
     "output_type": "stream",
     "text": [
      "GPU Memory: 0.53GB / 3.32GB\n"
     ]
    },
    {
     "name": "stderr",
     "output_type": "stream",
     "text": [
      " 88%|████████▊ | 21/24 [00:04<00:00,  4.45it/s]"
     ]
    },
    {
     "name": "stdout",
     "output_type": "stream",
     "text": [
      "GPU Memory: 0.53GB / 3.32GB\n"
     ]
    },
    {
     "name": "stderr",
     "output_type": "stream",
     "text": [
      "100%|██████████| 24/24 [00:05<00:00,  4.58it/s]\n"
     ]
    },
    {
     "name": "stdout",
     "output_type": "stream",
     "text": [
      "[Epoch 10/16] D loss: -0.2016, G loss: -0.4009\n",
      "Saved checkpoint at epoch 10\n",
      "\n",
      "Epoch 10 Evaluation:\n",
      "Chamfer Distance: 0.2999\n",
      "Earth Movers Distance: 0.0000\n"
     ]
    },
    {
     "data": {
      "image/png": "[encoded data removed]",
      "text/plain": [
       "<Figure size 864x432 with 2 Axes>"
      ]
     },
     "metadata": {
      "needs_background": "light"
     },
     "output_type": "display_data"
    },
    {
     "name": "stdout",
     "output_type": "stream",
     "text": [
      "\n",
      "--- Starting Epoch 12/16 ---\n",
      "GPU Memory: 0.53GB / 3.32GB\n"
     ]
    },
    {
     "name": "stderr",
     "output_type": "stream",
     "text": [
      "  4%|▍         | 1/24 [00:00<00:09,  2.38it/s]"
     ]
    },
    {
     "name": "stdout",
     "output_type": "stream",
     "text": [
      "GPU Memory: 0.53GB / 3.32GB\n"
     ]
    },
    {
     "name": "stderr",
     "output_type": "stream",
     "text": [
      " 46%|████▌     | 11/24 [00:02<00:03,  4.28it/s]"
     ]
    },
    {
     "name": "stdout",
     "output_type": "stream",
     "text": [
      "GPU Memory: 0.53GB / 3.32GB\n"
     ]
    },
    {
     "name": "stderr",
     "output_type": "stream",
     "text": [
      " 88%|████████▊ | 21/24 [00:04<00:00,  4.13it/s]"
     ]
    },
    {
     "name": "stdout",
     "output_type": "stream",
     "text": [
      "GPU Memory: 0.53GB / 3.32GB\n"
     ]
    },
    {
     "name": "stderr",
     "output_type": "stream",
     "text": [
      "100%|██████████| 24/24 [00:05<00:00,  4.44it/s]\n"
     ]
    },
    {
     "name": "stdout",
     "output_type": "stream",
     "text": [
      "[Epoch 11/16] D loss: 1.1797, G loss: -0.4937\n",
      "\n",
      "--- Starting Epoch 13/16 ---\n",
      "GPU Memory: 0.53GB / 3.32GB\n"
     ]
    },
    {
     "name": "stderr",
     "output_type": "stream",
     "text": [
      "  4%|▍         | 1/24 [00:00<00:08,  2.69it/s]"
     ]
    },
    {
     "name": "stdout",
     "output_type": "stream",
     "text": [
      "GPU Memory: 0.53GB / 3.32GB\n"
     ]
    },
    {
     "name": "stderr",
     "output_type": "stream",
     "text": [
      " 46%|████▌     | 11/24 [00:02<00:02,  4.36it/s]"
     ]
    },
    {
     "name": "stdout",
     "output_type": "stream",
     "text": [
      "GPU Memory: 0.53GB / 3.32GB\n"
     ]
    },
    {
     "name": "stderr",
     "output_type": "stream",
     "text": [
      " 88%|████████▊ | 21/24 [00:04<00:00,  4.01it/s]"
     ]
    },
    {
     "name": "stdout",
     "output_type": "stream",
     "text": [
      "GPU Memory: 0.53GB / 3.32GB\n"
     ]
    },
    {
     "name": "stderr",
     "output_type": "stream",
     "text": [
      "100%|██████████| 24/24 [00:05<00:00,  4.39it/s]\n"
     ]
    },
    {
     "name": "stdout",
     "output_type": "stream",
     "text": [
      "[Epoch 12/16] D loss: -0.1801, G loss: -0.2683\n",
      "\n",
      "--- Starting Epoch 14/16 ---\n",
      "GPU Memory: 0.53GB / 3.32GB\n"
     ]
    },
    {
     "name": "stderr",
     "output_type": "stream",
     "text": [
      "  4%|▍         | 1/24 [00:00<00:10,  2.12it/s]"
     ]
    },
    {
     "name": "stdout",
     "output_type": "stream",
     "text": [
      "GPU Memory: 0.53GB / 3.32GB\n"
     ]
    },
    {
     "name": "stderr",
     "output_type": "stream",
     "text": [
      " 46%|████▌     | 11/24 [00:03<00:04,  3.03it/s]"
     ]
    },
    {
     "name": "stdout",
     "output_type": "stream",
     "text": [
      "GPU Memory: 0.53GB / 3.32GB\n"
     ]
    },
    {
     "name": "stderr",
     "output_type": "stream",
     "text": [
      " 88%|████████▊ | 21/24 [00:06<00:00,  3.37it/s]"
     ]
    },
    {
     "name": "stdout",
     "output_type": "stream",
     "text": [
      "GPU Memory: 0.53GB / 3.32GB\n"
     ]
    },
    {
     "name": "stderr",
     "output_type": "stream",
     "text": [
      "100%|██████████| 24/24 [00:06<00:00,  3.47it/s]\n"
     ]
    },
    {
     "name": "stdout",
     "output_type": "stream",
     "text": [
      "[Epoch 13/16] D loss: -0.2475, G loss: -0.3209\n",
      "\n",
      "--- Starting Epoch 15/16 ---\n",
      "GPU Memory: 0.53GB / 3.32GB\n"
     ]
    },
    {
     "name": "stderr",
     "output_type": "stream",
     "text": [
      "  4%|▍         | 1/24 [00:00<00:09,  2.38it/s]"
     ]
    },
    {
     "name": "stdout",
     "output_type": "stream",
     "text": [
      "GPU Memory: 0.53GB / 3.32GB\n"
     ]
    },
    {
     "name": "stderr",
     "output_type": "stream",
     "text": [
      " 46%|████▌     | 11/24 [00:02<00:03,  4.24it/s]"
     ]
    },
    {
     "name": "stdout",
     "output_type": "stream",
     "text": [
      "GPU Memory: 0.53GB / 3.32GB\n"
     ]
    },
    {
     "name": "stderr",
     "output_type": "stream",
     "text": [
      " 88%|████████▊ | 21/24 [00:04<00:00,  4.41it/s]"
     ]
    },
    {
     "name": "stdout",
     "output_type": "stream",
     "text": [
      "GPU Memory: 0.53GB / 3.32GB\n"
     ]
    },
    {
     "name": "stderr",
     "output_type": "stream",
     "text": [
      "100%|██████████| 24/24 [00:05<00:00,  4.55it/s]\n"
     ]
    },
    {
     "name": "stdout",
     "output_type": "stream",
     "text": [
      "[Epoch 14/16] D loss: -0.0916, G loss: -0.3934\n",
      "\n",
      "--- Starting Epoch 16/16 ---\n",
      "GPU Memory: 0.53GB / 3.32GB\n"
     ]
    },
    {
     "name": "stderr",
     "output_type": "stream",
     "text": [
      "  4%|▍         | 1/24 [00:00<00:09,  2.52it/s]"
     ]
    },
    {
     "name": "stdout",
     "output_type": "stream",
     "text": [
      "GPU Memory: 0.53GB / 3.32GB\n"
     ]
    },
    {
     "name": "stderr",
     "output_type": "stream",
     "text": [
      " 46%|████▌     | 11/24 [00:02<00:03,  4.01it/s]"
     ]
    },
    {
     "name": "stdout",
     "output_type": "stream",
     "text": [
      "GPU Memory: 0.53GB / 3.32GB\n"
     ]
    },
    {
     "name": "stderr",
     "output_type": "stream",
     "text": [
      " 88%|████████▊ | 21/24 [00:04<00:00,  4.20it/s]"
     ]
    },
    {
     "name": "stdout",
     "output_type": "stream",
     "text": [
      "GPU Memory: 0.53GB / 3.32GB\n"
     ]
    },
    {
     "name": "stderr",
     "output_type": "stream",
     "text": [
      "100%|██████████| 24/24 [00:05<00:00,  4.40it/s]\n"
     ]
    },
    {
     "name": "stdout",
     "output_type": "stream",
     "text": [
      "[Epoch 15/16] D loss: 0.0267, G loss: -0.2130\n",
      "Saved checkpoint at epoch 15\n",
      "\n",
      "Epoch 15 Evaluation:\n",
      "Chamfer Distance: 0.2865\n",
      "Earth Movers Distance: 0.0000\n"
     ]
    },
    {
     "data": {
      "image/png": "[encoded data removed]",
      "text/plain": [
       "<Figure size 864x432 with 2 Axes>"
      ]
     },
     "metadata": {
      "needs_background": "light"
     },
     "output_type": "display_data"
    },
    {
     "name": "stdout",
     "output_type": "stream",
     "text": [
      "Saved final sample\n",
      "Error in final generation: name 'generator' is not defined\n",
      "\n",
      "Training completed successfully!\n",
      "Cleanup complete\n"
     ]
    }
   ],
   "source": [
    "if __name__ == \"__main__\":\n",
    "    # Create necessary directories\n",
    "    os.makedirs(\"results\", exist_ok=True)\n",
    "    os.makedirs(\"samples\", exist_ok=True)\n",
    "    \n",
    "    try:\n",
    "        train_point_cloud_gan()\n",
    "    except KeyboardInterrupt:\n",
    "        print(\"\\nTraining manually stopped\")\n",
    "    except Exception as e:\n",
    "        print(f\"\\nFatal error in main execution: {type(e).__name__}\")\n",
    "        print(f\"Error message: {str(e)}\")\n",
    "        traceback.print_exc()\n",
    "    finally:\n",
    "        if torch.cuda.is_available():\n",
    "            torch.cuda.empty_cache()\n",
    "        print(\"Cleanup complete\")\n",
    "        #tq3"
   ]
  },
  {
   "cell_type": "markdown",
   "metadata": {},
   "source": [
    " Analysis Functions"
   ]
  },
  {
   "cell_type": "code",
   "execution_count": 49,
   "metadata": {},
   "outputs": [],
   "source": [
    "def analyze_results(run_dir='results'):\n",
    "    \"\"\"Analyze and visualize training results\"\"\"\n",
    "    # 1. Plot training curves\n",
    "    plot_training_curves(run_dir)\n",
    "    \n",
    "    # 2. Generate interpolation video\n",
    "    create_interpolation_video(generator, latent_dim)\n",
    "    \n",
    "    # 3. Create HTML visualization\n",
    "    generate_html_viewer(run_dir)\n",
    "\n",
    "def plot_training_curves(run_dir):\n",
    "    \"\"\"Plot loss and metric curves\"\"\"\n",
    "    # Implement reading from log files and plotting\n",
    "    pass\n",
    "\n",
    "def create_interpolation_video(generator, latent_dim, num_frames=60):\n",
    "    \"\"\"Create interpolation between random points in latent space\"\"\"\n",
    "    z1 = torch.randn(1, latent_dim)\n",
    "    z2 = torch.randn(1, latent_dim)\n",
    "    \n",
    "    os.makedirs('interpolation', exist_ok=True)\n",
    "    \n",
    "    for i in range(num_frames):\n",
    "        alpha = i / num_frames\n",
    "        z = alpha * z1 + (1-alpha) * z2\n",
    "        pc = generator(z).cpu().numpy()[0]\n",
    "        \n",
    "        fig = plt.figure()\n",
    "        ax = fig.add_subplot(111, projection='3d')\n",
    "        ax.scatter(pc[:,0], pc[:,1], pc[:,2], s=1)\n",
    "        plt.savefig(f'interpolation/frame_{i:03d}.png')\n",
    "        plt.close()\n",
    "    \n",
    "    # Use ffmpeg to create video\n",
    "    os.system('ffmpeg -r 30 -i interpolation/frame_%03d.png -vcodec libx264 -crf 25 interpolation.mp4')\n",
    "\n",
    "def generate_html_viewer(run_dir):\n",
    "    \"\"\"Create simple HTML viewer for generated samples\"\"\"\n",
    "    html_content = \"\"\"\n",
    "    <html>\n",
    "    <head>\n",
    "        <title>3D GAN Results</title>\n",
    "        <style>\n",
    "            .sample-container { display: flex; flex-wrap: wrap; }\n",
    "            .sample { margin: 10px; text-align: center; }\n",
    "            img { max-width: 300px; }\n",
    "        </style>\n",
    "    </head>\n",
    "    <body>\n",
    "        <h1>Generated 3D Samples</h1>\n",
    "        <div class=\"sample-container\">\n",
    "    \"\"\"\n",
    "    \n",
    "    # Find all sample images\n",
    "    sample_files = [f for f in os.listdir('samples') if f.endswith('.png')]\n",
    "    \n",
    "    for sample in sample_files:\n",
    "        base_name = sample.replace('.png', '')\n",
    "        html_content += f\"\"\"\n",
    "        <div class=\"sample\">\n",
    "            <h3>{base_name}</h3>\n",
    "            <img src=\"samples/{sample}\" alt=\"{base_name}\">\n",
    "            <p><a href=\"samples/{base_name}.ply\">Download PLY</a></p>\n",
    "        </div>\n",
    "        \"\"\"\n",
    "    \n",
    "    html_content += \"\"\"\n",
    "        </div>\n",
    "    </body>\n",
    "    </html>\n",
    "    \"\"\"\n",
    "    \n",
    "    with open(f'{run_dir}/viewer.html', 'w') as f:\n",
    "        f.write(html_content)\n",
    "    print(f\"Created HTML viewer at {run_dir}/viewer.html\")"
   ]
  }
 ],
 "metadata": {
  "kernelspec": {
   "display_name": "Python 3",
   "language": "python",
   "name": "python3"
  },
  "language_info": {
   "codemirror_mode": {
    "name": "ipython",
    "version": 3
   },
   "file_extension": ".py",
   "mimetype": "text/x-python",
   "name": "python",
   "nbconvert_exporter": "python",
   "pygments_lexer": "ipython3",
   "version": "3.9.10"
  }
 },
 "nbformat": 4,
 "nbformat_minor": 2
}
