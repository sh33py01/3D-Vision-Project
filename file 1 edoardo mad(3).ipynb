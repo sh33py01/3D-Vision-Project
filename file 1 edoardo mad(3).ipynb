{
 "cells": [
  {
   "cell_type": "markdown",
   "metadata": {},
   "source": [
    "Prepare ShapeNet Data:\n",
    "Download ShapeNet point clouds or convert from meshes using tools like trimesh\n",
    "Save each point cloud as a .npy file in a structured directory\n",
    "\n",
    "Training:\n",
    "Update \"path_to_shapenet_point_clouds\" in the dataset initialization\n",
    "Run train_point_cloud_gan()\n",
    "Monitor losses and visualize generated samples\n",
    "\n",
    "Generation:\n",
    "After training, load the generator:\n",
    "////\n",
    "global_generator = Generator().to(device)\n",
    "generator.load_state_dict(torch.load(\"generator.pth\"))\n",
    "Generate new point clouds:\n",
    "///\n",
    "z = torch.randn(1, latent_dim).to(device)\n",
    "new_pc = global_generator(z).cpu().numpy()[0]\n",
    "visualize_point_cloud(new_pc)"
   ]
  },
  {
   "cell_type": "markdown",
   "metadata": {},
   "source": [
    "---"
   ]
  },
  {
   "cell_type": "markdown",
   "metadata": {},
   "source": [
    "Imports and Setup"
   ]
  },
  {
   "cell_type": "code",
   "execution_count": 1,
   "metadata": {},
   "outputs": [
    {
     "name": "stdout",
     "output_type": "stream",
     "text": [
      "Jupyter environment detected. Enabling Open3D WebVisualizer.\n",
      "[Open3D INFO] WebRTC GUI backend enabled.\n",
      "[Open3D INFO] WebRTCWindowSystem: HTTP handshake server disabled.\n"
     ]
    }
   ],
   "source": [
    "import os\n",
    "import ot\n",
    "import numpy as np\n",
    "import torch\n",
    "from torch.utils.data import Dataset, DataLoader\n",
    "from tqdm import tqdm\n",
    "import open3d as o3d\n",
    "import torch.nn as nn\n",
    "import traceback\n",
    "import matplotlib.pyplot as plt\n",
    "from mpl_toolkits.mplot3d import Axes3D\n",
    "from scipy.spatial.distance import cdist\n",
    "from sklearn.neighbors import NearestNeighbors\n",
    "from torch.nn.utils import spectral_norm\n",
    "import pandas as pd\n",
    "import shutil\n"
   ]
  },
  {
   "cell_type": "markdown",
   "metadata": {},
   "source": [
    "## Database conversion\n",
    "The original dataset contains files in .off file format, which is incompatible with the subsequent code.\\\n",
    "This chunk of code converts them into .npy file format, compatible with the subsequent code."
   ]
  },
  {
   "cell_type": "markdown",
   "metadata": {},
   "source": [
    "Gloabl Variables"
   ]
  },
  {
   "cell_type": "code",
   "execution_count": 2,
   "metadata": {},
   "outputs": [],
   "source": [
    "# Global variables\n",
    "generator = None\n",
    "latent_dim = None"
   ]
  },
  {
   "cell_type": "markdown",
   "metadata": {},
   "source": [
    "Utility Functions "
   ]
  },
  {
   "cell_type": "code",
   "execution_count": 3,
   "metadata": {},
   "outputs": [],
   "source": [
    "def save_point_cloud(points, filename):\n",
    "    \"\"\" Save point cloud to PLY file \"\"\"\n",
    "    pcd = o3d.geometry.PointCloud()\n",
    "    pcd.points = o3d.utility.Vector3dVector(points)\n",
    "    o3d.io.write_point_cloud(filename, pcd)\n",
    "\n",
    "def visualize_point_cloud(points):\n",
    "    \"\"\" Interactive visualization \"\"\"\n",
    "    pcd = o3d.geometry.PointCloud()\n",
    "    pcd.points = o3d.utility.Vector3dVector(points)\n",
    "    o3d.visualization.draw_geometries([pcd])"
   ]
  },
  {
   "cell_type": "markdown",
   "metadata": {},
   "source": [
    "Dataset Class"
   ]
  },
  {
   "cell_type": "code",
   "execution_count": 4,
   "metadata": {},
   "outputs": [],
   "source": [
    "class PointCloudDataset(Dataset):\n",
    "    def __init__(self, root_dir, num_points=2048, split='train'):\n",
    "        self.root_dir = root_dir\n",
    "        self.num_points = num_points\n",
    "        self.files = []\n",
    "        \n",
    "        if not os.path.exists(root_dir):\n",
    "            raise ValueError(f\"Directory {root_dir} does not exist\")\n",
    "            \n",
    "        for class_dir in os.listdir(root_dir):\n",
    "            class_path = os.path.join(root_dir, class_dir)\n",
    "            if os.path.isdir(class_path):\n",
    "                for file in os.listdir(class_path):\n",
    "                    if file.endswith('.npy'):\n",
    "                        self.files.append(os.path.join(class_path, file))\n",
    "        \n",
    "        if len(self.files) == 0:\n",
    "            raise ValueError(f\"No .npy files found in {root_dir}\")\n",
    "\n",
    "        split_idx = int(0.8 * len(self.files))\n",
    "        self.files = self.files[:split_idx] if split == 'train' else self.files[split_idx:]\n",
    "        np.random.shuffle(self.files)\n",
    "\n",
    "    def __len__(self):\n",
    "        return len(self.files)\n",
    "\n",
    "    def __getitem__(self, idx):\n",
    "        try:\n",
    "            pc = np.load(self.files[idx], allow_pickle=True)\n",
    "\n",
    "            if pc.shape[0] > self.num_points:\n",
    "                idxs = np.random.choice(pc.shape[0], self.num_points, replace=False)\n",
    "                pc = pc[idxs]\n",
    "            elif pc.shape[0] < self.num_points:\n",
    "                idxs = np.random.choice(pc.shape[0], self.num_points, replace=True)\n",
    "                pc = pc[idxs]\n",
    "\n",
    "            pc = torch.from_numpy(pc).float()\n",
    "            pc = self.normalize_point_cloud(pc)\n",
    "            return pc\n",
    "\n",
    "        except Exception as e:\n",
    "            print(f\"Error loading index {idx}, file: {self.files[idx]}\")\n",
    "            print(f\"Exception: {e}\")\n",
    "            return torch.zeros((self.num_points, 3))  # or raise the error again \n",
    "\n",
    "    def normalize_point_cloud(self, pc):\n",
    "        \"\"\" Normalize point cloud to fit in [-1, 1] cube \"\"\"\n",
    "        centroid = torch.mean(pc, dim=0)\n",
    "        pc = pc - centroid\n",
    "        max_dist = torch.max(torch.sqrt(torch.sum(pc**2, dim=1)))\n",
    "        pc = pc / max_dist\n",
    "        return pc"
   ]
  },
  {
   "cell_type": "markdown",
   "metadata": {},
   "source": [
    "Model Definitions "
   ]
  },
  {
   "cell_type": "code",
   "execution_count": 5,
   "metadata": {},
   "outputs": [],
   "source": [
    "class Generator(nn.Module):\n",
    "    def __init__(self, latent_dim, num_points):\n",
    "        super(Generator, self).__init__()\n",
    "        self.latent_dim = latent_dim\n",
    "        self.num_points = num_points\n",
    "        \n",
    "        # Fully connected layers with batch norm and leaky ReLU\n",
    "        self.model = nn.Sequential(\n",
    "            nn.Linear(latent_dim, 256),\n",
    "            nn.BatchNorm1d(256),\n",
    "            nn.LeakyReLU(0.2),\n",
    "            \n",
    "            nn.Linear(256, 512),\n",
    "            nn.BatchNorm1d(512),\n",
    "            nn.LeakyReLU(0.2),\n",
    "            \n",
    "            nn.Linear(512, 1024),\n",
    "            nn.BatchNorm1d(1024),\n",
    "            nn.LeakyReLU(0.2),\n",
    "            \n",
    "            nn.Linear(1024, 2048),\n",
    "            nn.BatchNorm1d(2048),\n",
    "            nn.LeakyReLU(0.2),\n",
    "            \n",
    "            # Final layer outputs 3D coordinates (x,y,z) for each point\n",
    "            nn.Linear(2048, num_points * 3),\n",
    "            nn.Tanh()  # Tanh keeps outputs in [-1,1] range\n",
    "        )\n",
    "\n",
    "    def forward(self, z):\n",
    "        batch_size = z.size(0)\n",
    "        # Generate point cloud\n",
    "        pc = self.model(z)\n",
    "        # Reshape to [batch_size, num_points, 3]\n",
    "        pc = pc.view(batch_size, self.num_points, 3)\n",
    "        return pc\n",
    "\n",
    "class Discriminator(nn.Module):\n",
    "    def __init__(self, num_points=2048):\n",
    "        super(Discriminator, self).__init__()\n",
    "        self.num_points = num_points\n",
    "        \n",
    "        # Shared MLP layers (similar to PointNet)\n",
    "        self.conv1 = spectral_norm(nn.Conv1d(3, 64, 1))  # Input channels: 3 (x,y,z), output: 64\n",
    "        self.conv2 = spectral_norm(nn.Conv1d(64, 128, 1))\n",
    "        self.conv3 = spectral_norm(nn.Conv1d(128, 256, 1))\n",
    "\n",
    "        self.global_conv = spectral_norm(nn.Conv1d(256, 512, 1))\n",
    "    \n",
    "        \n",
    "        # Classification layers\n",
    "        self.fc1 = spectral_norm(nn.Linear(512, 256))\n",
    "        self.fc2 = spectral_norm(nn.Linear(256, 1))\n",
    "\n",
    "        self.relu = nn.ReLU()\n",
    "        \n",
    "    \n",
    "    def forward(self, x):\n",
    "        # x shape: (batch_size, num_points, 3)\n",
    "        x = x.transpose(2, 1)  # Convert to (batch_size, 3, num_points)\n",
    "        \n",
    "        # Shared MLP\n",
    "        x = self.relu(self.conv1(x))\n",
    "        x = self.relu(self.conv2(x))\n",
    "        x = self.relu(self.conv3(x))\n",
    "        x = self.relu(self.global_conv(x))\n",
    "        \n",
    "        x = torch.max(x, 2, keepdim=True)[0]  # Global max pooling\n",
    "        x = x.view(-1, 512)\n",
    "        x = self.relu(self.fc1(x))\n",
    "        x=self.fc2(x)\n",
    "        \n",
    "        return x"
   ]
  },
  {
   "cell_type": "markdown",
   "metadata": {},
   "source": [
    "Training Utilities"
   ]
  },
  {
   "cell_type": "code",
   "execution_count": 6,
   "metadata": {},
   "outputs": [],
   "source": [
    "def gradient_penalty(discriminator, real_samples, fake_samples, device):\n",
    "    \"\"\" Calculates the gradient penalty loss for WGAN-GP \"\"\"\n",
    "    batch_size = real_samples.size(0)\n",
    "    # Random weight term for interpolation\n",
    "    alpha = torch.rand(batch_size, 1, 1).to(device)\n",
    "    # Get random interpolation between real and fake samples\n",
    "    interpolates = (alpha * real_samples + ((1 - alpha) * fake_samples)).requires_grad_(True)\n",
    "    \n",
    "    d_interpolates = discriminator(interpolates)\n",
    "    fake = torch.ones(batch_size, 1).to(device)\n",
    "    \n",
    "    # Get gradient w.r.t. interpolates\n",
    "    gradients = torch.autograd.grad(\n",
    "        outputs=d_interpolates,\n",
    "        inputs=interpolates,\n",
    "        grad_outputs=fake,\n",
    "        create_graph=True,\n",
    "        retain_graph=True,\n",
    "        only_inputs=True,\n",
    "    )[0]\n",
    "    gradients = gradients.reshape(gradients.size(0), -1)\n",
    "    gradient_penalty = ((gradients.norm(2, dim=1) - 1) ** 2).mean()\n",
    "    return gradient_penalty"
   ]
  },
  {
   "cell_type": "markdown",
   "metadata": {},
   "source": [
    "Evaluation Metrics"
   ]
  },
  {
   "cell_type": "code",
   "execution_count": 7,
   "metadata": {},
   "outputs": [],
   "source": [
    "def chamfer_distance(pc1, pc2):\n",
    "    \"\"\"Compute Chamfer Distance between two point clouds\"\"\"\n",
    "    dist = cdist(pc1, pc2)\n",
    "    return np.mean(np.min(dist, axis=0)) + np.mean(np.min(dist, axis=1))\n",
    "\n",
    "def earth_movers_distance(pc1, pc2):\n",
    "    \"\"\"Approximate EMD using the Sinkhorn algorithm\"\"\"\n",
    "    from ot import emd\n",
    "    # Normalize to probability distributions\n",
    "    pc1 = pc1 / np.sum(pc1, axis=1, keepdims=True)\n",
    "    pc2 = pc2 / np.sum(pc2, axis=1, keepdims=True)\n",
    "    cost_matrix = cdist(pc1, pc2)\n",
    "    return emd([], [], cost_matrix)\n",
    "\n",
    "def evaluate_model(global_generator, global_latent_dim, real_dataset, num_samples=100, device='cuda'):\n",
    "    \"\"\"Comprehensive evaluation of generated samples\"\"\"\n",
    "    global_generator.eval()\n",
    "    \n",
    "    # Generate samples\n",
    "    fake_pcs = []\n",
    "    with torch.no_grad():\n",
    "        for _ in range(num_samples):\n",
    "            z = torch.randn(1, global_latent_dim).to(device)\n",
    "            fake_pc = global_generator(z).cpu().numpy()[0]\n",
    "            fake_pcs.append(fake_pc)\n",
    "    \n",
    "    # Get real samples\n",
    "    real_pcs = [real_dataset[i].numpy() for i in range(num_samples)]\n",
    "    \n",
    "    # Compute metrics\n",
    "    cd_scores, emd_scores = [], []\n",
    "    for real_pc, fake_pc in zip(real_pcs, fake_pcs):\n",
    "        cd_scores.append(chamfer_distance(real_pc, fake_pc))\n",
    "        emd_scores.append(earth_movers_distance(real_pc, fake_pc))\n",
    "    \n",
    "    return {\n",
    "        'chamfer_distance': np.mean(cd_scores),\n",
    "        'earth_movers_distance': np.mean(emd_scores),\n",
    "        'samples': (real_pcs, fake_pcs)\n",
    "    }"
   ]
  },
  {
   "cell_type": "markdown",
   "metadata": {},
   "source": [
    "Visualization Functions"
   ]
  },
  {
   "cell_type": "code",
   "execution_count": 8,
   "metadata": {},
   "outputs": [],
   "source": [
    "def visualize_comparison(real_pc, fake_pc, save_path=None):\n",
    "    \"\"\"Visualize real vs generated point clouds side by side\"\"\"\n",
    "    fig = plt.figure(figsize=(12, 6))\n",
    "    \n",
    "    # Real point cloud\n",
    "    ax1 = fig.add_subplot(121, projection='3d')\n",
    "    ax1.scatter(real_pc[:,0], real_pc[:,1], real_pc[:,2], s=1)\n",
    "    ax1.set_title('Real Point Cloud')\n",
    "    ax1.set_axis_off()\n",
    "    \n",
    "    # Generated point cloud\n",
    "    ax2 = fig.add_subplot(122, projection='3d')\n",
    "    ax2.scatter(fake_pc[:,0], fake_pc[:,1], fake_pc[:,2], s=1)\n",
    "    ax2.set_title('Generated Point Cloud')\n",
    "    ax2.set_axis_off()\n",
    "    \n",
    "    if save_path:\n",
    "        plt.savefig(save_path, bbox_inches='tight', dpi=300)\n",
    "    plt.show()\n",
    "\n",
    "def generate_and_save_samples(global_generator, global_latent_dim, num_samples=5, device='cuda'):\n",
    "    \"\"\"Generate and save sample point clouds\"\"\"\n",
    "    global_generator.eval()\n",
    "    os.makedirs('samples', exist_ok=True)\n",
    "    \n",
    "    with torch.no_grad():\n",
    "        for i in range(num_samples):\n",
    "            z = torch.randn(1, global_latent_dim).to(device)\n",
    "            pc = global_generator(z).cpu().numpy()[0]\n",
    "            \n",
    "            # Save as PLY and PNG\n",
    "            save_path = f'samples/sample_{i}'\n",
    "            save_point_cloud(pc, f'{save_path}.ply')\n",
    "            \n",
    "            # Create visualization\n",
    "            fig = plt.figure(figsize=(6,6))\n",
    "            ax = fig.add_subplot(111, projection='3d')\n",
    "            ax.scatter(pc[:,0], pc[:,1], pc[:,2], s=1)\n",
    "            ax.set_axis_off()\n",
    "            plt.savefig(f'{save_path}.png', bbox_inches='tight', dpi=150)\n",
    "            plt.close()"
   ]
  },
  {
   "cell_type": "markdown",
   "metadata": {},
   "source": [
    " Enhanced Evaluation Metrics Implementation"
   ]
  },
  {
   "cell_type": "code",
   "execution_count": 9,
   "metadata": {},
   "outputs": [],
   "source": [
    "import numpy as np\n",
    "from scipy.spatial.distance import cdist\n",
    "from sklearn.neighbors import NearestNeighbors\n",
    "\n",
    "def chamfer_distance(pc1, pc2):\n",
    "    \"\"\"Compute Chamfer Distance between two point clouds\"\"\"\n",
    "    dist = cdist(pc1, pc2)\n",
    "    return np.mean(np.min(dist, axis=0)) + np.mean(np.min(dist, axis=1))\n",
    "\n",
    "def earth_movers_distance(pc1, pc2):\n",
    "    \"\"\"Approximate EMD using the Sinkhorn algorithm\"\"\"\n",
    "    from ot import emd\n",
    "    # Normalize to probability distributions\n",
    "    pc1 = pc1 / np.sum(pc1, axis=1, keepdims=True)\n",
    "    pc2 = pc2 / np.sum(pc2, axis=1, keepdims=True)\n",
    "    cost_matrix = cdist(pc1, pc2)\n",
    "    return emd([], [], cost_matrix)\n",
    "\n",
    "def evaluate_model(global_generator, global_latent_dim, real_dataset, num_samples=100, device='cuda'):\n",
    "    \"\"\"Comprehensive evaluation of generated samples\"\"\"\n",
    "    global_generator.eval()\n",
    "    \n",
    "    # Generate samples\n",
    "    fake_pcs = []\n",
    "    with torch.no_grad():\n",
    "        for _ in range(num_samples):\n",
    "            z = torch.randn(1, global_latent_dim).to(device)\n",
    "            fake_pc = global_generator(z).cpu().numpy()[0]\n",
    "            fake_pcs.append(fake_pc)\n",
    "    \n",
    "    # Get real samples\n",
    "    real_pcs = [real_dataset[i].numpy() for i in range(num_samples)]\n",
    "    \n",
    "    # Compute metrics\n",
    "    cd_scores, emd_scores = [], []\n",
    "    for real_pc, fake_pc in zip(real_pcs, fake_pcs):\n",
    "        cd_scores.append(chamfer_distance(real_pc, fake_pc))\n",
    "        emd_scores.append(earth_movers_distance(real_pc, fake_pc))\n",
    "    \n",
    "    return {\n",
    "        'chamfer_distance': np.mean(cd_scores),\n",
    "        'earth_movers_distance': np.mean(emd_scores),\n",
    "        'samples': (real_pcs, fake_pcs)\n",
    "    }"
   ]
  },
  {
   "cell_type": "markdown",
   "metadata": {},
   "source": [
    "Training Function"
   ]
  },
  {
   "cell_type": "code",
   "execution_count": null,
   "metadata": {},
   "outputs": [],
   "source": [
    "def train_point_cloud_gan():\n",
    "    global global_generator, global_latent_dim \n",
    "    # Hyperparameters\n",
    "    device = torch.device(\"cuda\" if torch.cuda.is_available() else \"cpu\")\n",
    "    global_latent_dim = 62\n",
    "    num_points = 2048\n",
    "    batch_size = 64\n",
    "    epochs = 5\n",
    "    lr = 0.0002\n",
    "    n_critic = 3\n",
    "    lambda_gp = 10\n",
    "\n",
    "    # loss tracking\n",
    "    gen_losses = []\n",
    "    disc_losses = []\n",
    "    \n",
    "    # Debug setup\n",
    "    import gc\n",
    "    def print_memory():\n",
    "        if torch.cuda.is_available():\n",
    "            print(f\"GPU Memory: {torch.cuda.memory_allocated()/1e9:.2f}GB / {torch.cuda.memory_reserved()/1e9:.2f}GB\")\n",
    "        gc.collect()\n",
    "\n",
    "    # Create dataset and dataloader\n",
    "    try:\n",
    "        dataset = PointCloudDataset(\"C:/Users/Edoardo/Desktop/chair\", num_points=num_points)\n",
    "        eval_dataset = PointCloudDataset(\"C:/Users/Edoardo/Desktop/chair\", num_points=num_points, split='test')\n",
    "        print(f\"Dataset loaded with {len(dataset)} samples (train), {len(eval_dataset)} samples (test)\")\n",
    "\n",
    "        dataloader = DataLoader(dataset, batch_size=batch_size, shuffle=True, drop_last=True)\n",
    "        print(f\"Dataloader created with {len(dataloader)} batches of size {batch_size}\")\n",
    "    except Exception as e:\n",
    "        print(f\"Error initializing data: {e}\")\n",
    "        return\n",
    "\n",
    "    # Initialize networks\n",
    "    global_generator = Generator(global_latent_dim, num_points).to(device)\n",
    "    discriminator = Discriminator(num_points).to(device)\n",
    "    global_generator.train()\n",
    "    discriminator.train()\n",
    "\n",
    "    # Optimizers\n",
    "    optimizer_G = torch.optim.Adam(global_generator.parameters(), lr=lr, betas=(0.5, 0.999))\n",
    "    optimizer_D = torch.optim.Adam(discriminator.parameters(), lr=lr, betas=(0.5, 0.999))\n",
    "    \n",
    "    # Training loop with enhanced monitoring\n",
    "    try:\n",
    "        for epoch in range(epochs):\n",
    "            print(f\"\\n--- Starting Epoch {epoch+1}/{epochs} ---\")\n",
    "            print_memory()\n",
    "            \n",
    "            for i, real_pcs in enumerate(tqdm(dataloader)):\n",
    "                # Skip any problematic batches\n",
    "                if real_pcs.size(0) != batch_size:\n",
    "                    print(f\"\\nSkipping incomplete batch of size {real_pcs.size(0)}\")\n",
    "                    continue\n",
    "                    \n",
    "                real_pcs = real_pcs.to(device)\n",
    "                \n",
    "                # Train Discriminator\n",
    "                optimizer_D.zero_grad()\n",
    "                \n",
    "                # Generate fake point clouds\n",
    "                z = torch.randn(batch_size, global_latent_dim).to(device)\n",
    "                fake_pcs = global_generator(z)\n",
    "                \n",
    "                # Real and fake losses\n",
    "                real_loss = -torch.mean(discriminator(real_pcs))\n",
    "                fake_loss = torch.mean(discriminator(fake_pcs.detach()))\n",
    "                \n",
    "                # Gradient penalty\n",
    "                gp = gradient_penalty(discriminator, real_pcs.data, fake_pcs.data, device)\n",
    "                \n",
    "                # Total discriminator loss\n",
    "                d_loss = real_loss + fake_loss + lambda_gp * gp\n",
    "                d_loss.backward()\n",
    "                optimizer_D.step()\n",
    "                \n",
    "                # Train Generator every n_critic steps\n",
    "                if i % n_critic == 0:\n",
    "                    optimizer_G.zero_grad()\n",
    "                    z = torch.randn(batch_size, global_latent_dim).to(device)\n",
    "                    fake_pcs = global_generator(z)\n",
    "                    g_loss = -torch.mean(discriminator(fake_pcs))\n",
    "                    g_loss.backward()\n",
    "                    optimizer_G.step()\n",
    "                \n",
    "                # Memory monitoring\n",
    "                if i % 10 == 0:\n",
    "                    print_memory()\n",
    "            gen_losses.append(g_loss.item())\n",
    "            disc_losses.append(d_loss.item())\n",
    "            # Epoch summary\n",
    "            print(f\"[Epoch {epoch}/{epochs}] D loss: {d_loss.item():.4f}, G loss: {g_loss.item():.4f}\")\n",
    "            \n",
    "            # Evaluation and visualization every 5 epochs\n",
    "            if epoch % 5 == 0 or epoch == epochs - 1:\n",
    "                # Save checkpoint\n",
    "                torch.save({\n",
    "                    'epoch': epoch,\n",
    "                    'generator': global_generator.state_dict(),\n",
    "                    'discriminator': discriminator.state_dict(),\n",
    "                    'optimizer_G': optimizer_G.state_dict(),\n",
    "                    'optimizer_D': optimizer_D.state_dict(),\n",
    "                }, f\"checkpoint_epoch_{epoch}.pth\")\n",
    "                print(f\"Saved checkpoint at epoch {epoch}\")\n",
    "                \n",
    "                # Evaluation\n",
    "                metrics = evaluate_model(global_generator, global_latent_dim, eval_dataset, \n",
    "                                      num_samples=50, device=device)\n",
    "                \n",
    "                print(f\"\\nEpoch {epoch} Evaluation:\")\n",
    "                print(f\"Chamfer Distance: {metrics['chamfer_distance']:.4f}\")\n",
    "                print(f\"Earth Movers Distance: {metrics['earth_movers_distance']:.4f}\")\n",
    "                \n",
    "                # Visualize samples\n",
    "                real_sample, fake_sample = metrics['samples'][0][0], metrics['samples'][1][0]\n",
    "                visualize_comparison(real_sample, fake_sample, \n",
    "                                   save_path=f\"results/epoch_{epoch}_comparison.png\")\n",
    "                \n",
    "                # Save samples\n",
    "                generate_and_save_samples(global_generator, global_latent_dim, num_samples=5, device=device)\n",
    "                \n",
    "    except torch.cuda.OutOfMemoryError:\n",
    "        print(\"\\nCUDA out of memory! Try:\")\n",
    "        print(f\"- Reducing batch size (currently {batch_size})\")\n",
    "        print(f\"- Using fewer points (currently {num_points})\")\n",
    "        return\n",
    "    except Exception as e:\n",
    "        print(f\"\\nTraining interrupted by {type(e).__name__}: {str(e)}\")\n",
    "        traceback.print_exc()\n",
    "        return\n",
    "\n",
    "    # Final sample generation and analysis\n",
    "    try:\n",
    "        with torch.no_grad():\n",
    "            global_generator.eval()\n",
    "            # Save final sample\n",
    "            sample_z = torch.randn(1, global_latent_dim).to(device)\n",
    "            sample_pc = global_generator(sample_z).cpu().numpy()\n",
    "            save_point_cloud(sample_pc[0], \"final_sample.ply\")\n",
    "            print(\"Saved final sample\")\n",
    "            \n",
    "            # Generate analysis - now using global variables\n",
    "            analyze_results(global_generator, global_latent_dim)\n",
    "            \n",
    "    except Exception as e:\n",
    "        print(f\"Error in final generation: {e}\")\n",
    "    os.makedirs('results', exist_ok=True)\n",
    "    # Final message\n",
    "    np.save(\"results/gen_losses.npy\", np.array(gen_losses))\n",
    "    np.save(\"results/disc_losses.npy\", np.array(disc_losses))\n",
    "    plot_training_curves('results')\n",
    "\n",
    "    print(\"\\nSaved training loss curves to results/\")\n",
    "    print(\"\\nTraining completed successfully!\")"
   ]
  },
  {
   "cell_type": "markdown",
   "metadata": {},
   "source": [
    "# Main execution block"
   ]
  },
  {
   "cell_type": "code",
   "execution_count": 16,
   "metadata": {},
   "outputs": [
    {
     "name": "stdout",
     "output_type": "stream",
     "text": [
      "Dataset loaded with 791 samples (train), 198 samples (test)\n",
      "Dataloader created with 12 batches of size 64\n",
      "\n",
      "--- Starting Epoch 1/5 ---\n",
      "GPU Memory: 0.08GB / 0.22GB\n"
     ]
    },
    {
     "name": "stderr",
     "output_type": "stream",
     "text": [
      " 17%|█▋        | 2/12 [00:00<00:03,  2.77it/s]"
     ]
    },
    {
     "name": "stdout",
     "output_type": "stream",
     "text": [
      "GPU Memory: 0.28GB / 3.04GB\n"
     ]
    },
    {
     "name": "stderr",
     "output_type": "stream",
     "text": [
      "100%|██████████| 12/12 [00:03<00:00,  3.02it/s]"
     ]
    },
    {
     "name": "stdout",
     "output_type": "stream",
     "text": [
      "GPU Memory: 0.28GB / 3.05GB\n"
     ]
    },
    {
     "name": "stderr",
     "output_type": "stream",
     "text": [
      "\n"
     ]
    },
    {
     "name": "stdout",
     "output_type": "stream",
     "text": [
      "[Epoch 0/5] D loss: 9.7394, G loss: -0.0700\n",
      "Saved checkpoint at epoch 0\n",
      "\n",
      "Epoch 0 Evaluation:\n",
      "Chamfer Distance: 0.3072\n",
      "Earth Movers Distance: 0.0000\n"
     ]
    },
    {
     "data": {
      "image/png": "[encoded data removed]",
      "text/plain": [
       "<Figure size 864x432 with 2 Axes>"
      ]
     },
     "metadata": {
      "needs_background": "light"
     },
     "output_type": "display_data"
    },
    {
     "name": "stdout",
     "output_type": "stream",
     "text": [
      "\n",
      "--- Starting Epoch 2/5 ---\n",
      "GPU Memory: 0.28GB / 3.05GB\n"
     ]
    },
    {
     "name": "stderr",
     "output_type": "stream",
     "text": [
      " 17%|█▋        | 2/12 [00:00<00:03,  3.17it/s]"
     ]
    },
    {
     "name": "stdout",
     "output_type": "stream",
     "text": [
      "GPU Memory: 0.28GB / 3.05GB\n"
     ]
    },
    {
     "name": "stderr",
     "output_type": "stream",
     "text": [
      "100%|██████████| 12/12 [00:03<00:00,  3.30it/s]"
     ]
    },
    {
     "name": "stdout",
     "output_type": "stream",
     "text": [
      "GPU Memory: 0.28GB / 3.05GB\n"
     ]
    },
    {
     "name": "stderr",
     "output_type": "stream",
     "text": [
      "\n"
     ]
    },
    {
     "name": "stdout",
     "output_type": "stream",
     "text": [
      "[Epoch 1/5] D loss: 9.0440, G loss: -0.3888\n",
      "\n",
      "--- Starting Epoch 3/5 ---\n",
      "GPU Memory: 0.28GB / 3.05GB\n"
     ]
    },
    {
     "name": "stderr",
     "output_type": "stream",
     "text": [
      " 17%|█▋        | 2/12 [00:00<00:02,  3.55it/s]"
     ]
    },
    {
     "name": "stdout",
     "output_type": "stream",
     "text": [
      "GPU Memory: 0.28GB / 3.05GB\n"
     ]
    },
    {
     "name": "stderr",
     "output_type": "stream",
     "text": [
      "100%|██████████| 12/12 [00:03<00:00,  3.36it/s]"
     ]
    },
    {
     "name": "stdout",
     "output_type": "stream",
     "text": [
      "GPU Memory: 0.28GB / 3.05GB\n"
     ]
    },
    {
     "name": "stderr",
     "output_type": "stream",
     "text": [
      "\n"
     ]
    },
    {
     "name": "stdout",
     "output_type": "stream",
     "text": [
      "[Epoch 2/5] D loss: 7.0168, G loss: -0.8408\n",
      "\n",
      "--- Starting Epoch 4/5 ---\n",
      "GPU Memory: 0.28GB / 3.05GB\n"
     ]
    },
    {
     "name": "stderr",
     "output_type": "stream",
     "text": [
      " 17%|█▋        | 2/12 [00:00<00:02,  3.51it/s]"
     ]
    },
    {
     "name": "stdout",
     "output_type": "stream",
     "text": [
      "GPU Memory: 0.28GB / 3.05GB\n"
     ]
    },
    {
     "name": "stderr",
     "output_type": "stream",
     "text": [
      "100%|██████████| 12/12 [00:03<00:00,  3.39it/s]"
     ]
    },
    {
     "name": "stdout",
     "output_type": "stream",
     "text": [
      "GPU Memory: 0.28GB / 3.05GB\n"
     ]
    },
    {
     "name": "stderr",
     "output_type": "stream",
     "text": [
      "\n"
     ]
    },
    {
     "name": "stdout",
     "output_type": "stream",
     "text": [
      "[Epoch 3/5] D loss: 4.8567, G loss: -1.1992\n",
      "\n",
      "--- Starting Epoch 5/5 ---\n",
      "GPU Memory: 0.28GB / 3.05GB\n"
     ]
    },
    {
     "name": "stderr",
     "output_type": "stream",
     "text": [
      " 17%|█▋        | 2/12 [00:00<00:02,  3.53it/s]"
     ]
    },
    {
     "name": "stdout",
     "output_type": "stream",
     "text": [
      "GPU Memory: 0.28GB / 3.05GB\n"
     ]
    },
    {
     "name": "stderr",
     "output_type": "stream",
     "text": [
      "100%|██████████| 12/12 [00:03<00:00,  3.35it/s]"
     ]
    },
    {
     "name": "stdout",
     "output_type": "stream",
     "text": [
      "GPU Memory: 0.28GB / 3.05GB\n"
     ]
    },
    {
     "name": "stderr",
     "output_type": "stream",
     "text": [
      "\n"
     ]
    },
    {
     "name": "stdout",
     "output_type": "stream",
     "text": [
      "[Epoch 4/5] D loss: 3.4590, G loss: -1.4585\n",
      "Saved checkpoint at epoch 4\n",
      "\n",
      "Epoch 4 Evaluation:\n",
      "Chamfer Distance: 0.3389\n",
      "Earth Movers Distance: 0.0000\n"
     ]
    },
    {
     "data": {
      "image/png": "[encoded data removed]",
      "text/plain": [
       "<Figure size 864x432 with 2 Axes>"
      ]
     },
     "metadata": {
      "needs_background": "light"
     },
     "output_type": "display_data"
    },
    {
     "name": "stdout",
     "output_type": "stream",
     "text": [
      "Saved final sample\n",
      "No training logs found to plot\n",
      "Could not create interpolation video: Expected all tensors to be on the same device, but found at least two devices, cuda:0 and cpu! (when checking argument for argument mat1 in method wrapper_CUDA_addmm)\n",
      "Created results viewer at results\\results_viewer.html\n",
      "No training logs found to plot\n",
      "\n",
      "Saved training loss curves to results/\n",
      "\n",
      "Training completed successfully!\n",
      "Cleanup complete\n"
     ]
    }
   ],
   "source": [
    "if __name__ == \"__main__\":\n",
    "    # Create necessary directories\n",
    "    os.makedirs(\"results\", exist_ok=True)\n",
    "    os.makedirs(\"samples\", exist_ok=True)\n",
    "    \n",
    "    try:\n",
    "        train_point_cloud_gan()\n",
    "    except KeyboardInterrupt:\n",
    "        print(\"\\nTraining manually stopped\")\n",
    "    except Exception as e:\n",
    "        print(f\"\\nFatal error in main execution: {type(e).__name__}\")\n",
    "        print(f\"Error message: {str(e)}\")\n",
    "        traceback.print_exc()\n",
    "    finally:\n",
    "        if torch.cuda.is_available():\n",
    "            torch.cuda.empty_cache()\n",
    "        print(\"Cleanup complete\")\n",
    "        #tq3"
   ]
  },
  {
   "cell_type": "markdown",
   "metadata": {},
   "source": [
    " Analysis Functions"
   ]
  },
  {
   "cell_type": "code",
   "execution_count": null,
   "metadata": {},
   "outputs": [],
   "source": [
    "def analyze_results(generator, latent_dim, run_dir='results'):\n",
    "    \"\"\"Comprehensive analysis with proper device handling and error recovery\"\"\"\n",
    "    # Ensure generator is in eval mode and on correct device\n",
    "    if generator is not None:\n",
    "        generator.eval()\n",
    "        device = next(generator.parameters()).device\n",
    "    else:\n",
    "        device = torch.device('cpu')\n",
    "\n",
    "    try:\n",
    "        # 1. Plot training curves if logs exist\n",
    "        plot_training_curves(run_dir)\n",
    "        \n",
    "        # 2. Create interpolation video if generator is available\n",
    "        if generator is not None:\n",
    "            create_interpolation_video(generator, latent_dim, device, run_dir)\n",
    "        \n",
    "        # 3. Always create HTML viewer\n",
    "        generate_html_viewer(run_dir)\n",
    "        \n",
    "    except Exception as e:\n",
    "        print(f\"Analysis partially failed: {str(e)}\")\n",
    "        traceback.print_exc()\n",
    "    finally:\n",
    "        # Clean up CUDA cache\n",
    "        if torch.cuda.is_available():\n",
    "            torch.cuda.empty_cache()\n",
    "\n",
    "def plot_training_curves(run_dir):\n",
    "    \"\"\"Enhanced training curve plotting with auto log detection\"\"\"\n",
    "    try:\n",
    "        # Find any CSV log file in directory\n",
    "        log_files = [f for f in os.listdir(run_dir) if f.endswith('.csv')]\n",
    "        if not log_files:\n",
    "            print(\"No training logs found - run training first\")\n",
    "            return\n",
    "            \n",
    "        log_path = os.path.join(run_dir, log_files[0])\n",
    "        logs = pd.read_csv(log_path)\n",
    "        \n",
    "        plt.figure(figsize=(12, 5))\n",
    "        \n",
    "        # Plot losses\n",
    "        plt.subplot(121)\n",
    "        if 'd_loss' in logs.columns:\n",
    "            plt.plot(logs['epoch'], logs['d_loss'], label='D Loss')\n",
    "        if 'g_loss' in logs.columns:\n",
    "            plt.plot(logs['epoch'], logs['g_loss'], label='G Loss')\n",
    "        plt.xlabel('Epoch')\n",
    "        plt.ylabel('Loss')\n",
    "        plt.legend()\n",
    "        plt.title('Training Losses')\n",
    "        \n",
    "        # Plot metrics if available\n",
    "        plt.subplot(122)\n",
    "        metrics_plotted = False\n",
    "        if 'chamfer_distance' in logs.columns:\n",
    "            plt.plot(logs['epoch'], logs['chamfer_distance'], label='Chamfer')\n",
    "            metrics_plotted = True\n",
    "        if 'earth_movers_distance' in logs.columns:\n",
    "            plt.plot(logs['epoch'], logs['earth_movers_distance'], label='EMD')\n",
    "            metrics_plotted = True\n",
    "            \n",
    "        if metrics_plotted:\n",
    "            plt.xlabel('Epoch')\n",
    "            plt.ylabel('Metric')\n",
    "            plt.legend()\n",
    "            plt.title('Evaluation Metrics')\n",
    "        else:\n",
    "            plt.axis('off')\n",
    "            plt.text(0.5, 0.5, 'No metrics recorded', \n",
    "                   ha='center', va='center')\n",
    "        \n",
    "        plt.tight_layout()\n",
    "        plot_path = os.path.join(run_dir, 'training_curves.png')\n",
    "        plt.savefig(plot_path, bbox_inches='tight', dpi=120)\n",
    "        plt.close()\n",
    "        print(f\"Saved training curves to {plot_path}\")\n",
    "        \n",
    "    except Exception as e:\n",
    "        print(f\"Could not plot training curves: {str(e)}\")\n",
    "\n",
    "def create_interpolation_video(generator, latent_dim, device, run_dir, num_frames=60):\n",
    "    \"\"\"Robust interpolation video creation with device awareness\"\"\"\n",
    "    temp_dir = os.path.join(run_dir, 'interp_frames')\n",
    "    os.makedirs(temp_dir, exist_ok=True)\n",
    "    \n",
    "    try:\n",
    "        # Generate latent vectors on correct device\n",
    "        z1 = torch.randn(1, latent_dim, device=device)\n",
    "        z2 = torch.randn(1, latent_dim, device=device)\n",
    "        \n",
    "        # Create progress bar\n",
    "        pbar = tqdm(range(num_frames), desc=\"Rendering interpolation\")\n",
    "        \n",
    "        for i in pbar:\n",
    "            alpha = i / (num_frames - 1)  # Ensure we reach exactly z2\n",
    "            z = (1-alpha) * z1 + alpha * z2\n",
    "            \n",
    "            with torch.no_grad():\n",
    "                pc = generator(z).cpu().numpy()[0]  # Explicit move to CPU\n",
    "            \n",
    "            fig = plt.figure(figsize=(6, 6), facecolor='white')\n",
    "            ax = fig.add_subplot(111, projection='3d')\n",
    "            \n",
    "            # Better visualization settings\n",
    "            ax.scatter(pc[:,0], pc[:,1], pc[:,2], s=2, alpha=0.8)\n",
    "            ax.set_xlim(-1, 1)\n",
    "            ax.set_ylim(-1, 1)\n",
    "            ax.set_zlim(-1, 1)\n",
    "            ax.set_axis_off()\n",
    "            ax.set_title(f'Frame {i+1}/{num_frames}', y=0.95)\n",
    "            \n",
    "            frame_path = os.path.join(temp_dir, f'frame_{i:03d}.png')\n",
    "            plt.savefig(frame_path, bbox_inches='tight', dpi=100, \n",
    "                       facecolor=fig.get_facecolor())\n",
    "            plt.close()\n",
    "        \n",
    "        # Create video if ffmpeg available\n",
    "        if shutil.which('ffmpeg'):\n",
    "            video_path = os.path.join(run_dir, 'latent_interpolation.mp4')\n",
    "            ffmpeg_cmd = (\n",
    "                f'ffmpeg -y -framerate 30 -i {temp_dir}/frame_%03d.png '\n",
    "                '-c:v libx264 -preset slow -crf 18 '\n",
    "                '-pix_fmt yuv420p -vf \"pad=ceil(iw/2)*2:ceil(ih/2)*2\" '\n",
    "                f'{video_path}'\n",
    "            )\n",
    "            subprocess.run(ffmpeg_cmd, shell=True, check=True)\n",
    "            print(f\"Created interpolation video at {video_path}\")\n",
    "        else:\n",
    "            print(\"ffmpeg not found - saving frames only\")\n",
    "            \n",
    "    except Exception as e:\n",
    "        print(f\"Video creation failed: {str(e)}\")\n",
    "    finally:\n",
    "        # Clean up frames unless debugging\n",
    "        if os.path.exists(temp_dir):\n",
    "            shutil.rmtree(temp_dir)\n",
    "\n",
    "def generate_html_viewer(run_dir):\n",
    "    \"\"\"Robust HTML viewer generation with fallbacks\"\"\"\n",
    "    try:\n",
    "        # Get all available results\n",
    "        results = {\n",
    "            'curves': os.path.join(run_dir, 'training_curves.png'),\n",
    "            'video': os.path.join(run_dir, 'latent_interpolation.mp4'),\n",
    "            'samples': []\n",
    "        }\n",
    "        \n",
    "        # Find sample images\n",
    "        samples_dir = 'samples'\n",
    "        if os.path.exists(samples_dir):\n",
    "            results['samples'] = sorted(\n",
    "                f for f in os.listdir(samples_dir) \n",
    "                if f.endswith('.png')\n",
    "            )\n",
    "        \n",
    "        # Generate HTML\n",
    "        html = f\"\"\"\n",
    "        <html>\n",
    "        <head>\n",
    "            <title>3D GAN Results</title>\n",
    "            <style>\n",
    "                body {{ font-family: Arial, sans-serif; max-width: 1200px; margin: 0 auto; padding: 20px; }}\n",
    "                .section {{ margin-bottom: 40px; border-bottom: 1px solid #eee; padding-bottom: 20px; }}\n",
    "                .grid {{ display: grid; grid-template-columns: repeat(auto-fill, minmax(300px, 1fr)); gap: 20px; }}\n",
    "                .card {{ border: 1px solid #ddd; border-radius: 8px; overflow: hidden; }}\n",
    "                .card img, .card video {{ width: 100%; display: block; }}\n",
    "                .card-info {{ padding: 15px; }}\n",
    "                h1 {{ color: #333; }}\n",
    "                h2 {{ color: #444; margin-top: 0; }}\n",
    "            </style>\n",
    "        </head>\n",
    "        <body>\n",
    "            <h1>3D GAN Training Results</h1>\n",
    "        \"\"\"\n",
    "        \n",
    "        # Training curves section\n",
    "        if os.path.exists(results['curves']):\n",
    "            html += f\"\"\"\n",
    "            <div class=\"section\">\n",
    "                <h2>Training Progress</h2>\n",
    "                <div class=\"card\">\n",
    "                    <img src=\"training_curves.png\" alt=\"Training Curves\">\n",
    "                    <div class=\"card-info\">\n",
    "                        <p>Evolution of losses and metrics during training</p>\n",
    "                    </div>\n",
    "                </div>\n",
    "            </div>\n",
    "            \"\"\"\n",
    "        \n",
    "        # Interpolation video section\n",
    "        if os.path.exists(results['video']):\n",
    "            html += f\"\"\"\n",
    "            <div class=\"section\">\n",
    "                <h2>Latent Space Interpolation</h2>\n",
    "                <div class=\"card\">\n",
    "                    <video controls>\n",
    "                        <source src=\"latent_interpolation.mp4\" type=\"video/mp4\">\n",
    "                        Your browser does not support the video tag.\n",
    "                    </video>\n",
    "                    <div class=\"card-info\">\n",
    "                        <p>Smooth transition between random points in latent space</p>\n",
    "                    </div>\n",
    "                </div>\n",
    "            </div>\n",
    "            \"\"\"\n",
    "        \n",
    "        # Samples section\n",
    "        if results['samples']:\n",
    "            html += \"\"\"\n",
    "            <div class=\"section\">\n",
    "                <h2>Generated Samples</h2>\n",
    "                <div class=\"grid\">\n",
    "            \"\"\"\n",
    "            for img in results['samples']:\n",
    "                base = os.path.splitext(img)[0]\n",
    "                html += f\"\"\"\n",
    "                <div class=\"card\">\n",
    "                    <img src=\"../samples/{img}\" alt=\"{base}\">\n",
    "                    <div class=\"card-info\">\n",
    "                        <h3>{base}</h3>\n",
    "                        <p><a href=\"../samples/{base}.ply\">Download PLY</a></p>\n",
    "                    </div>\n",
    "                </div>\n",
    "                \"\"\"\n",
    "            html += \"\"\"\n",
    "                </div>\n",
    "            </div>\n",
    "            \"\"\"\n",
    "        \n",
    "        html += \"\"\"\n",
    "        </body>\n",
    "        </html>\n",
    "        \"\"\"\n",
    "        \n",
    "        # Save HTML file\n",
    "        viewer_path = os.path.join(run_dir, 'results_viewer.html')\n",
    "        with open(viewer_path, 'w') as f:\n",
    "            f.write(html)\n",
    "        print(f\"Results viewer created at {viewer_path}\")\n",
    "        \n",
    "    except Exception as e:\n",
    "        print(f\"Could not generate HTML viewer: {str(e)}\")"
   ]
  }
 ],
 "metadata": {
  "kernelspec": {
   "display_name": "Python 3",
   "language": "python",
   "name": "python3"
  },
  "language_info": {
   "codemirror_mode": {
    "name": "ipython",
    "version": 3
   },
   "file_extension": ".py",
   "mimetype": "text/x-python",
   "name": "python",
   "nbconvert_exporter": "python",
   "pygments_lexer": "ipython3",
   "version": "3.9.10"
  }
 },
 "nbformat": 4,
 "nbformat_minor": 2
}
